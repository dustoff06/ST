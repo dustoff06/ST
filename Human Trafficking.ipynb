{
 "cells": [
  {
   "cell_type": "markdown",
   "metadata": {},
   "source": [
    "# NLP"
   ]
  },
  {
   "cell_type": "code",
   "execution_count": 1,
   "metadata": {},
   "outputs": [
    {
     "name": "stdout",
     "output_type": "stream",
     "text": [
      "[name: \"/device:CPU:0\"\n",
      "device_type: \"CPU\"\n",
      "memory_limit: 268435456\n",
      "locality {\n",
      "}\n",
      "incarnation: 13651674083554307793\n",
      ", name: \"/device:XLA_CPU:0\"\n",
      "device_type: \"XLA_CPU\"\n",
      "memory_limit: 17179869184\n",
      "locality {\n",
      "}\n",
      "incarnation: 1260251094050060481\n",
      "physical_device_desc: \"device: XLA_CPU device\"\n",
      ", name: \"/device:GPU:0\"\n",
      "device_type: \"GPU\"\n",
      "memory_limit: 6918604064\n",
      "locality {\n",
      "  bus_id: 1\n",
      "  links {\n",
      "  }\n",
      "}\n",
      "incarnation: 746287571822531521\n",
      "physical_device_desc: \"device: 0, name: NVIDIA GeForce RTX 2080 Super, pci bus id: 0000:01:00.0, compute capability: 7.5\"\n",
      ", name: \"/device:XLA_GPU:0\"\n",
      "device_type: \"XLA_GPU\"\n",
      "memory_limit: 17179869184\n",
      "locality {\n",
      "}\n",
      "incarnation: 7203669538176049506\n",
      "physical_device_desc: \"device: XLA_GPU device\"\n",
      "]\n"
     ]
    }
   ],
   "source": [
    "######################################################Initial Packages########################################################\n",
    "#Basic Operating System Stuff\n",
    "import sklearn\n",
    "import os\n",
    "import gc #garbage collector\n",
    "import random #random seed generator\n",
    "import sys\n",
    "import csv\n",
    "\n",
    "#Basic NLP toolkit stuff\n",
    "import nltk\n",
    "from nltk.corpus import stopwords\n",
    "from nltk.tokenize import word_tokenize  \n",
    "import re\n",
    "import spacy\n",
    "from spacymoji import Emoji\n",
    "import pickle\n",
    "\n",
    "#Basic dataframe, array, and math stuff\n",
    "import pandas as pd #data frame\n",
    "import math #math functions\n",
    "import numpy as np    #numerical package\n",
    "\n",
    "#Tensorflow\n",
    "import tensorflow as tf #backend for keras\n",
    "from tensorflow.python.client import device_lib #to  see if my GPU is alive!\n",
    "import tensorflow.keras #keras\n",
    "from tensorflow.keras import Sequential,Input,Model #pull in the sequential, input layers and a model\n",
    "from tensorflow.keras import layers #If I were building a sequential model\n",
    "from tensorflow.keras.layers import Dense, Dropout, Flatten, Embedding, Bidirectional, Dense, LSTM, Concatenate #pull in the dense, dropout, and flatten layers\n",
    "from tensorflow.keras.layers import Input, Add, Activation, ZeroPadding2D, MaxPooling2D, BatchNormalization \n",
    "from tensorflow.keras.layers import LeakyReLU #pull in leakly relu layer\n",
    "from tensorflow.keras.callbacks import EarlyStopping, ReduceLROnPlateau #use for early stopping and reduction on level-out\n",
    "from tensorflow.keras.models import Model, load_model  #Can't do much without a model\n",
    "from tensorflow.keras import utils #Need utilities for the layers\n",
    "from tensorflow.keras.utils import get_file #To load certain files\n",
    "from tensorflow.keras.utils import plot_model #Allows plotting of the model\n",
    "import tensorflow.keras.backend as K #let's write our own metrics and loss functions\n",
    "from tensorflow.keras import backend\n",
    "from tensorflow.keras.preprocessing.text import Tokenizer\n",
    "from tensorflow.keras.preprocessing.sequence import pad_sequences\n",
    "\n",
    "\n",
    "#Graphing\n",
    "import pydot  #For model plotting\n",
    "from IPython.display import SVG #Same here\n",
    "import matplotlib.pyplot as plt #plotting\n",
    "import matplotlib #image save\n",
    "from matplotlib.pyplot import imshow #Show images\n",
    "from IPython.display import display\n",
    "from sklearn.model_selection import train_test_split as tts\n",
    "\n",
    "#Directory\n",
    "\n",
    "os.chdir(\"D:/Human_Trafficking\")\n",
    "\n",
    "%matplotlib inline\n",
    "\n",
    "#Verify GPU recognition\n",
    "print(device_lib.list_local_devices()) #Let's see if Python recognizes my GPU, shall we?\n",
    "##############################################################################################################################"
   ]
  },
  {
   "cell_type": "markdown",
   "metadata": {},
   "source": [
    "## Functions to Reset Keras to Save Memory and to Assign Values to the CPU, Load the Image File Names and Save the Dimension"
   ]
  },
  {
   "cell_type": "code",
   "execution_count": 2,
   "metadata": {},
   "outputs": [],
   "source": [
    "#################################################Memory Mgt / Directory Load###################################################\n",
    "def reset_keras():\n",
    "    tf.keras.backend.clear_session #This clears the GPU session\n",
    "    gc.collect()\n",
    "reset_keras()            \n",
    "################################################################################################################################"
   ]
  },
  {
   "cell_type": "markdown",
   "metadata": {},
   "source": [
    "# Read Data "
   ]
  },
  {
   "cell_type": "code",
   "execution_count": 3,
   "metadata": {},
   "outputs": [
    {
     "data": {
      "text/html": [
       "<div>\n",
       "<style scoped>\n",
       "    .dataframe tbody tr th:only-of-type {\n",
       "        vertical-align: middle;\n",
       "    }\n",
       "\n",
       "    .dataframe tbody tr th {\n",
       "        vertical-align: top;\n",
       "    }\n",
       "\n",
       "    .dataframe thead th {\n",
       "        text-align: right;\n",
       "    }\n",
       "</style>\n",
       "<table border=\"1\" class=\"dataframe\">\n",
       "  <thead>\n",
       "    <tr style=\"text-align: right;\">\n",
       "      <th></th>\n",
       "      <th>id</th>\n",
       "      <th>label</th>\n",
       "      <th>title</th>\n",
       "      <th>body</th>\n",
       "    </tr>\n",
       "  </thead>\n",
       "  <tbody>\n",
       "    <tr>\n",
       "      <th>0</th>\n",
       "      <td>2632347</td>\n",
       "      <td>4</td>\n",
       "      <td>Ms Chrissy - 22</td>\n",
       "      <td>Tall &lt;br&gt; Sexy&lt;br&gt; Slim&lt;br&gt; 100% real&lt;br&gt; Reas...</td>\n",
       "    </tr>\n",
       "    <tr>\n",
       "      <th>1</th>\n",
       "      <td>11645643</td>\n",
       "      <td>1</td>\n",
       "      <td>Everybody loves a Filipina Girl - 29</td>\n",
       "      <td>Hi there Boys it's Miss Sweet 1OO% Filipina gi...</td>\n",
       "    </tr>\n",
       "    <tr>\n",
       "      <th>2</th>\n",
       "      <td>15199346</td>\n",
       "      <td>4</td>\n",
       "      <td>NEW Sexy Asian girl⛔️⛔️⛔️⛔️⛔️SUPER HOOOT⛔️⛔️⛔️...</td>\n",
       "      <td>Hello Gentlemen⚜⚜&lt;br&gt; I am Mimi Asian Girl &lt;br...</td>\n",
       "    </tr>\n",
       "    <tr>\n",
       "      <th>3</th>\n",
       "      <td>14477454</td>\n",
       "      <td>0</td>\n",
       "      <td>Freaky . TS 🍆🍑 TOP AND BOTTOM (9INCH) fun pack...</td>\n",
       "      <td>• So Treat Yourself to Heaven on Earth...🌍 YOU...</td>\n",
       "    </tr>\n",
       "    <tr>\n",
       "      <th>4</th>\n",
       "      <td>11266475</td>\n",
       "      <td>2</td>\n",
       "      <td>❤Kinky Kaylani👑Rear Access &amp;VIP visits👑Great R...</td>\n",
       "      <td>Aren't you tired of the old bait and switch or...</td>\n",
       "    </tr>\n",
       "  </tbody>\n",
       "</table>\n",
       "</div>"
      ],
      "text/plain": [
       "         id  label                                              title  \\\n",
       "0   2632347      4                                    Ms Chrissy - 22   \n",
       "1  11645643      1               Everybody loves a Filipina Girl - 29   \n",
       "2  15199346      4  NEW Sexy Asian girl⛔️⛔️⛔️⛔️⛔️SUPER HOOOT⛔️⛔️⛔️...   \n",
       "3  14477454      0  Freaky . TS 🍆🍑 TOP AND BOTTOM (9INCH) fun pack...   \n",
       "4  11266475      2  ❤Kinky Kaylani👑Rear Access &VIP visits👑Great R...   \n",
       "\n",
       "                                                body  \n",
       "0  Tall <br> Sexy<br> Slim<br> 100% real<br> Reas...  \n",
       "1  Hi there Boys it's Miss Sweet 1OO% Filipina gi...  \n",
       "2  Hello Gentlemen⚜⚜<br> I am Mimi Asian Girl <br...  \n",
       "3  • So Treat Yourself to Heaven on Earth...🌍 YOU...  \n",
       "4  Aren't you tired of the old bait and switch or...  "
      ]
     },
     "execution_count": 3,
     "metadata": {},
     "output_type": "execute_result"
    }
   ],
   "source": [
    "mydf = pd.read_csv('data.csv', encoding=\"utf8\")\n",
    "mydf.head()"
   ]
  },
  {
   "cell_type": "markdown",
   "metadata": {},
   "source": [
    "# Load Emoji Handling Package"
   ]
  },
  {
   "cell_type": "code",
   "execution_count": 4,
   "metadata": {},
   "outputs": [
    {
     "data": {
      "text/plain": [
       "['emoji',\n",
       " 'tok2vec',\n",
       " 'tagger',\n",
       " 'parser',\n",
       " 'attribute_ruler',\n",
       " 'lemmatizer',\n",
       " 'ner']"
      ]
     },
     "execution_count": 4,
     "metadata": {},
     "output_type": "execute_result"
    }
   ],
   "source": [
    "spacy.prefer_gpu() #use the GPU if available\n",
    "nlp = spacy.load(\"en_core_web_lg\") #load the large version of the emojis\n",
    "emoji = Emoji(nlp) \n",
    "nlp.add_pipe(\"emoji\", first=True) #add emoji pipeline\n",
    "nlp.pipe_names"
   ]
  },
  {
   "cell_type": "markdown",
   "metadata": {},
   "source": [
    "# Look at the Emoji's"
   ]
  },
  {
   "cell_type": "code",
   "execution_count": 5,
   "metadata": {},
   "outputs": [
    {
     "name": "stdout",
     "output_type": "stream",
     "text": [
      "0                                                []\n",
      "1                                                []\n",
      "2        [⛔, ⛔, ⛔, ⛔, ⛔, ⛔, ⛔, ⛔, ⛔, ⛔, ⛔, ⛔, ⛔, ⛔]\n",
      "3                                      [🍆, 🍑, 🎉, 🎊]\n",
      "4                                   [❤, 👑, 👑, ❤, ❤]\n",
      "                            ...                    \n",
      "12345                                            []\n",
      "12346                [📒, 📒, 📒, 📒, 📒, 📒, 📒, 📒, 📒, 📒]\n",
      "12347                [💝, 👑, 👑, 👑, 💎, 💎, 💎, 👑, 👑, 👑]\n",
      "12348                                           [☎]\n",
      "12349       [💘, 💘, 💘, 💘, 🌹, 🌹, 🌹, 🌹, 🌹, 🌹, 🌹, 🌹, 🌹]\n",
      "Length: 12350, dtype: object\n"
     ]
    }
   ],
   "source": [
    "tmp=mydf.values\n",
    "\n",
    "def extract_emojies(x): #define function\n",
    "  tmp = nlp(str(x['title'])) #with emojis\n",
    "  emojis = [token.text for token in tmp if token._.is_emoji] #get the emoji tokens\n",
    "  return emojis\n",
    "emojies_df = mydf.apply(extract_emojies, axis=1) #look at the emojis in the title only (quicker)\n",
    "print(emojies_df)\n",
    "\n",
    "del tmp\n",
    "reset_keras()"
   ]
  },
  {
   "cell_type": "code",
   "execution_count": 6,
   "metadata": {},
   "outputs": [
    {
     "name": "stdout",
     "output_type": "stream",
     "text": [
      "0                                                    []\n",
      "1                                                    []\n",
      "2        [⚜, ⚜, 💋, 💋, 💋, 💋, ☎️, 🌹, 🌹, 🌹, 🌹, 🌹, 🌹, 🌹, 🌹]\n",
      "3                              [🌍, 👉, 👉, 👉, 👉, 👉, 🍃, 🙌]\n",
      "4                                                    []\n",
      "                              ...                      \n",
      "12345                                                []\n",
      "12346                                                []\n",
      "12347                                                []\n",
      "12348                                               [➡]\n",
      "12349                                                []\n",
      "Length: 12350, dtype: object\n"
     ]
    }
   ],
   "source": [
    "tmp=mydf.values\n",
    "def extract_emojies(x): #define function\n",
    "  tmp = nlp(str(x['body'])) #with emojis\n",
    "  emojies1 = [token.text for token in tmp if token._.is_emoji] #get the emoji tokens\n",
    "  return emojies1\n",
    "emojies1_df = mydf.apply(extract_emojies, axis=1) #look at the emojis in the title only (quicker)\n",
    "print(emojies1_df)\n",
    "del tmp\n",
    "reset_keras()"
   ]
  },
  {
   "cell_type": "code",
   "execution_count": 7,
   "metadata": {},
   "outputs": [
    {
     "name": "stdout",
     "output_type": "stream",
     "text": [
      "id        int64\n",
      "label     int64\n",
      "title    object\n",
      "body     object\n",
      "dtype: object\n",
      "(12350, 4)\n"
     ]
    }
   ],
   "source": [
    "print(mydf.dtypes)\n",
    "print(mydf.shape)"
   ]
  },
  {
   "cell_type": "markdown",
   "metadata": {},
   "source": [
    "# Count the Emojis / Special Words"
   ]
  },
  {
   "cell_type": "code",
   "execution_count": 8,
   "metadata": {},
   "outputs": [],
   "source": [
    "emcount1=[] #counts\n",
    "emcount2=[]\n",
    "pcount1=[] #proportions\n",
    "pcount2=[]\n",
    "sexcount1=[] #counts for derivatives of sex\n",
    "sexcount2=[]\n",
    "psexcount1=[] #proportions for derivatives of sex\n",
    "psexcount2=[]\n",
    "\n",
    "for i in range(len(mydf)):\n",
    "    l1=len(str(mydf.iloc[i,2]))\n",
    "    l2=len(str(mydf.iloc[i,3]))\n",
    "    st1=str(mydf.iloc[i,2])\n",
    "    st2=str(mydf.iloc[i,3])\n",
    "    tmp1=nlp(st1)\n",
    "    tmp2=nlp(st2)\n",
    "    emcount1.append(len(tmp1))\n",
    "    emcount2.append(len(tmp2))\n",
    "    pcount1.append(len(tmp1)/(l1+.1))\n",
    "    pcount2.append(len(tmp2)/(l2+.1))\n",
    "    tmp3=len(re.findall(r's\\s*e\\s*x\\s*',st1, re.IGNORECASE)) #find the word sex with or without spaces\n",
    "    tmp4=len(re.findall(r's\\s*e\\s*x\\s*',st2, re.IGNORECASE)) #same here\n",
    "    sexcount1.append(tmp3)\n",
    "    sexcount2.append(tmp4)\n",
    "    psexcount1.append(tmp3/(l1+.1))\n",
    "    psexcount2.append(tmp4/(l2+.1))                 \n",
    "\n",
    "    \n",
    "mydf['num_title_emojis']=emcount1 #add to dataframe\n",
    "mydf['num_body_emojis']=emcount2\n",
    "mydf['num_title_sex']=sexcount1\n",
    "mydf['num_body_sex']=sexcount2\n",
    "\n",
    "mydf['prop_title_emojis']=pcount1\n",
    "mydf['prop_body_emojis']=pcount2\n",
    "mydf['prop_title_sex']=psexcount1\n",
    "mydf['prop_body_sex']=psexcount2\n",
    "\n",
    "mydf.to_csv('D:/Human_Trafficking/expanded.csv', index=False)\n",
    "reset_keras()"
   ]
  },
  {
   "cell_type": "code",
   "execution_count": 9,
   "metadata": {},
   "outputs": [
    {
     "data": {
      "text/html": [
       "<div>\n",
       "<style scoped>\n",
       "    .dataframe tbody tr th:only-of-type {\n",
       "        vertical-align: middle;\n",
       "    }\n",
       "\n",
       "    .dataframe tbody tr th {\n",
       "        vertical-align: top;\n",
       "    }\n",
       "\n",
       "    .dataframe thead th {\n",
       "        text-align: right;\n",
       "    }\n",
       "</style>\n",
       "<table border=\"1\" class=\"dataframe\">\n",
       "  <thead>\n",
       "    <tr style=\"text-align: right;\">\n",
       "      <th></th>\n",
       "      <th>id</th>\n",
       "      <th>label</th>\n",
       "      <th>title</th>\n",
       "      <th>body</th>\n",
       "      <th>num_title_emojis</th>\n",
       "      <th>num_body_emojis</th>\n",
       "      <th>num_title_sex</th>\n",
       "      <th>num_body_sex</th>\n",
       "      <th>prop_title_emojis</th>\n",
       "      <th>prop_body_emojis</th>\n",
       "      <th>prop_title_sex</th>\n",
       "      <th>prop_body_sex</th>\n",
       "    </tr>\n",
       "  </thead>\n",
       "  <tbody>\n",
       "    <tr>\n",
       "      <th>0</th>\n",
       "      <td>2632347</td>\n",
       "      <td>4</td>\n",
       "      <td>Ms Chrissy - 22</td>\n",
       "      <td>Tall &lt;br&gt; Sexy&lt;br&gt; Slim&lt;br&gt; 100% real&lt;br&gt; Reas...</td>\n",
       "      <td>4</td>\n",
       "      <td>64</td>\n",
       "      <td>0</td>\n",
       "      <td>1</td>\n",
       "      <td>0.264901</td>\n",
       "      <td>0.333160</td>\n",
       "      <td>0.000000</td>\n",
       "      <td>0.005206</td>\n",
       "    </tr>\n",
       "    <tr>\n",
       "      <th>1</th>\n",
       "      <td>11645643</td>\n",
       "      <td>1</td>\n",
       "      <td>Everybody loves a Filipina Girl - 29</td>\n",
       "      <td>Hi there Boys it's Miss Sweet 1OO% Filipina gi...</td>\n",
       "      <td>7</td>\n",
       "      <td>96</td>\n",
       "      <td>0</td>\n",
       "      <td>0</td>\n",
       "      <td>0.193906</td>\n",
       "      <td>0.244836</td>\n",
       "      <td>0.000000</td>\n",
       "      <td>0.000000</td>\n",
       "    </tr>\n",
       "    <tr>\n",
       "      <th>2</th>\n",
       "      <td>15199346</td>\n",
       "      <td>4</td>\n",
       "      <td>NEW Sexy Asian girl⛔️⛔️⛔️⛔️⛔️SUPER HOOOT⛔️⛔️⛔️...</td>\n",
       "      <td>Hello Gentlemen⚜⚜&lt;br&gt; I am Mimi Asian Girl &lt;br...</td>\n",
       "      <td>37</td>\n",
       "      <td>124</td>\n",
       "      <td>1</td>\n",
       "      <td>1</td>\n",
       "      <td>0.410655</td>\n",
       "      <td>0.286971</td>\n",
       "      <td>0.011099</td>\n",
       "      <td>0.002314</td>\n",
       "    </tr>\n",
       "    <tr>\n",
       "      <th>3</th>\n",
       "      <td>14477454</td>\n",
       "      <td>0</td>\n",
       "      <td>Freaky . TS 🍆🍑 TOP AND BOTTOM (9INCH) fun pack...</td>\n",
       "      <td>• So Treat Yourself to Heaven on Earth...🌍 YOU...</td>\n",
       "      <td>18</td>\n",
       "      <td>63</td>\n",
       "      <td>0</td>\n",
       "      <td>0</td>\n",
       "      <td>0.299501</td>\n",
       "      <td>0.302739</td>\n",
       "      <td>0.000000</td>\n",
       "      <td>0.000000</td>\n",
       "    </tr>\n",
       "    <tr>\n",
       "      <th>4</th>\n",
       "      <td>11266475</td>\n",
       "      <td>2</td>\n",
       "      <td>❤Kinky Kaylani👑Rear Access &amp;VIP visits👑Great R...</td>\n",
       "      <td>Aren't you tired of the old bait and switch or...</td>\n",
       "      <td>21</td>\n",
       "      <td>116</td>\n",
       "      <td>0</td>\n",
       "      <td>0</td>\n",
       "      <td>0.233074</td>\n",
       "      <td>0.236686</td>\n",
       "      <td>0.000000</td>\n",
       "      <td>0.000000</td>\n",
       "    </tr>\n",
       "  </tbody>\n",
       "</table>\n",
       "</div>"
      ],
      "text/plain": [
       "         id  label                                              title  \\\n",
       "0   2632347      4                                    Ms Chrissy - 22   \n",
       "1  11645643      1               Everybody loves a Filipina Girl - 29   \n",
       "2  15199346      4  NEW Sexy Asian girl⛔️⛔️⛔️⛔️⛔️SUPER HOOOT⛔️⛔️⛔️...   \n",
       "3  14477454      0  Freaky . TS 🍆🍑 TOP AND BOTTOM (9INCH) fun pack...   \n",
       "4  11266475      2  ❤Kinky Kaylani👑Rear Access &VIP visits👑Great R...   \n",
       "\n",
       "                                                body  num_title_emojis  \\\n",
       "0  Tall <br> Sexy<br> Slim<br> 100% real<br> Reas...                 4   \n",
       "1  Hi there Boys it's Miss Sweet 1OO% Filipina gi...                 7   \n",
       "2  Hello Gentlemen⚜⚜<br> I am Mimi Asian Girl <br...                37   \n",
       "3  • So Treat Yourself to Heaven on Earth...🌍 YOU...                18   \n",
       "4  Aren't you tired of the old bait and switch or...                21   \n",
       "\n",
       "   num_body_emojis  num_title_sex  num_body_sex  prop_title_emojis  \\\n",
       "0               64              0             1           0.264901   \n",
       "1               96              0             0           0.193906   \n",
       "2              124              1             1           0.410655   \n",
       "3               63              0             0           0.299501   \n",
       "4              116              0             0           0.233074   \n",
       "\n",
       "   prop_body_emojis  prop_title_sex  prop_body_sex  \n",
       "0          0.333160        0.000000       0.005206  \n",
       "1          0.244836        0.000000       0.000000  \n",
       "2          0.286971        0.011099       0.002314  \n",
       "3          0.302739        0.000000       0.000000  \n",
       "4          0.236686        0.000000       0.000000  "
      ]
     },
     "execution_count": 9,
     "metadata": {},
     "output_type": "execute_result"
    }
   ],
   "source": [
    "mydf.head()"
   ]
  },
  {
   "cell_type": "markdown",
   "metadata": {},
   "source": [
    "# Plot the Relative Frequency Distribution"
   ]
  },
  {
   "cell_type": "code",
   "execution_count": 10,
   "metadata": {},
   "outputs": [
    {
     "data": {
      "image/png": "[encoded data removed]",
      "text/plain": [
       "<Figure size 432x288 with 1 Axes>"
      ]
     },
     "metadata": {
      "needs_background": "light"
     },
     "output_type": "display_data"
    }
   ],
   "source": [
    "tmp4=mydf.groupby('label')['prop_title_emojis'].mean()\n",
    "myseq=['SU','U','WU','Unk','WL','L', 'SL']\n",
    "plt.bar(myseq,tmp4)\n",
    "plt.title('Relative Frequency of Title Emojis by Trafficking Likelhood')\n",
    "plt.xlabel('S=Strongly, U=Unlikely, W=Weakly, Unk=Unknown,L=Likely')\n",
    "plt.ylabel('Relative Frequency in Postings')\n",
    "\n",
    "del tmp4\n",
    "\n",
    "reset_keras()"
   ]
  },
  {
   "cell_type": "markdown",
   "metadata": {},
   "source": [
    "# Recode Emojis / Emoticons to Text, Remove Stopwords / Punctuation, Convert to Lower Case / Remove Numbers"
   ]
  },
  {
   "cell_type": "code",
   "execution_count": 11,
   "metadata": {},
   "outputs": [],
   "source": [
    "import nltk\n",
    "import string\n",
    "from num2words import num2words\n",
    "from string import punctuation\n",
    "from emot.emo_unicode import UNICODE_EMOJI \n",
    "from emot.emo_unicode import EMOTICONS_EMO # For EMOTICONS\n",
    "from nltk.stem import WordNetLemmatizer\n",
    "from nltk.corpus import wordnet\n",
    "from bs4 import BeautifulSoup\n",
    "#nltk.download('wordnet')\n",
    "#nltk.download('averaged_perceptron_tagger')\n",
    "\n",
    "#nltk.download('stopwords')\n",
    "#nltk.download('punkt')\n",
    "lemmatizer = WordNetLemmatizer()\n",
    "stopwords = set(nltk.corpus.stopwords.words('english'))\n",
    "wordnet_map = {\"N\":wordnet.NOUN, \"V\":wordnet.VERB, \"J\":wordnet.ADJ, \"R\":wordnet.ADV}\n",
    "\n",
    "def clean_html(text):\n",
    "  CLEANR = re.compile('<.*?>') \n",
    "  text = re.sub(CLEANR, '', text)\n",
    "  return text\n",
    "\n",
    "def convert_emoticons(text):\n",
    "    for emot in EMOTICONS_EMO:\n",
    "        text = text.replace(emot, EMOTICONS_EMO[emot]+\" \".replace(\"\",\"\"))\n",
    "    return text\n",
    "\n",
    "def convert_emojis(text):\n",
    "    for emot in UNICODE_EMOJI:\n",
    "        text = text.replace(emot,UNICODE_EMOJI[emot]+\" \".replace(\"\",\"\"))\n",
    "    return text\n",
    "\n",
    "def remove_stopwords(text):\n",
    "    return [word for word in word_tokenize(text) if not word in stopwords]\n",
    "\n",
    "def strip_punctuation(text):\n",
    "    return ''.join(c for c in text if c not in punctuation)+' '    \n",
    "\n",
    "def to_number(text):    \n",
    "    return(re.sub(r\"(\\d+)\", lambda x: num2words(int(x.group(0))), text))\n",
    "\n",
    "def lemmatize_words(text):\n",
    "    pos_tagged_text = nltk.pos_tag(text.split())\n",
    "    return ' '.join([lemmatizer.lemmatize(word, wordnet_map.get(pos[0], wordnet.NOUN)) for word, pos in pos_tagged_text])"
   ]
  },
  {
   "cell_type": "code",
   "execution_count": 12,
   "metadata": {},
   "outputs": [
    {
     "data": {
      "text/html": [
       "<div>\n",
       "<style scoped>\n",
       "    .dataframe tbody tr th:only-of-type {\n",
       "        vertical-align: middle;\n",
       "    }\n",
       "\n",
       "    .dataframe tbody tr th {\n",
       "        vertical-align: top;\n",
       "    }\n",
       "\n",
       "    .dataframe thead th {\n",
       "        text-align: right;\n",
       "    }\n",
       "</style>\n",
       "<table border=\"1\" class=\"dataframe\">\n",
       "  <thead>\n",
       "    <tr style=\"text-align: right;\">\n",
       "      <th></th>\n",
       "      <th>id</th>\n",
       "      <th>label</th>\n",
       "      <th>title</th>\n",
       "      <th>body</th>\n",
       "      <th>num_title_emojis</th>\n",
       "      <th>num_body_emojis</th>\n",
       "      <th>num_title_sex</th>\n",
       "      <th>num_body_sex</th>\n",
       "      <th>prop_title_emojis</th>\n",
       "      <th>prop_body_emojis</th>\n",
       "      <th>prop_title_sex</th>\n",
       "      <th>prop_body_sex</th>\n",
       "    </tr>\n",
       "  </thead>\n",
       "  <tbody>\n",
       "    <tr>\n",
       "      <th>0</th>\n",
       "      <td>2632347</td>\n",
       "      <td>4</td>\n",
       "      <td>ms chrissy twenty-two</td>\n",
       "      <td>tall sexy slim one hundred real reasonable cle...</td>\n",
       "      <td>4</td>\n",
       "      <td>64</td>\n",
       "      <td>0</td>\n",
       "      <td>1</td>\n",
       "      <td>0.264901</td>\n",
       "      <td>0.333160</td>\n",
       "      <td>0.000000</td>\n",
       "      <td>0.005206</td>\n",
       "    </tr>\n",
       "    <tr>\n",
       "      <th>1</th>\n",
       "      <td>11645643</td>\n",
       "      <td>1</td>\n",
       "      <td>everybody love filipina girl twenty-nine</td>\n",
       "      <td>hi boys s miss sweet oneoo filipina girl kai l...</td>\n",
       "      <td>7</td>\n",
       "      <td>96</td>\n",
       "      <td>0</td>\n",
       "      <td>0</td>\n",
       "      <td>0.193906</td>\n",
       "      <td>0.244836</td>\n",
       "      <td>0.000000</td>\n",
       "      <td>0.000000</td>\n",
       "    </tr>\n",
       "    <tr>\n",
       "      <th>2</th>\n",
       "      <td>15199346</td>\n",
       "      <td>4</td>\n",
       "      <td>new sexy asian girl noentry ️ noentry ️ noentr...</td>\n",
       "      <td>hello gentleman fleurdelis fleurdelis mimi asi...</td>\n",
       "      <td>37</td>\n",
       "      <td>124</td>\n",
       "      <td>1</td>\n",
       "      <td>1</td>\n",
       "      <td>0.410655</td>\n",
       "      <td>0.286971</td>\n",
       "      <td>0.011099</td>\n",
       "      <td>0.002314</td>\n",
       "    </tr>\n",
       "    <tr>\n",
       "      <th>3</th>\n",
       "      <td>14477454</td>\n",
       "      <td>0</td>\n",
       "      <td>freaky t eggplant peach top bottom nineinch fu...</td>\n",
       "      <td>• treat heaven earth globeshowingEuropeAfrica ...</td>\n",
       "      <td>18</td>\n",
       "      <td>63</td>\n",
       "      <td>0</td>\n",
       "      <td>0</td>\n",
       "      <td>0.299501</td>\n",
       "      <td>0.302739</td>\n",
       "      <td>0.000000</td>\n",
       "      <td>0.000000</td>\n",
       "    </tr>\n",
       "    <tr>\n",
       "      <th>4</th>\n",
       "      <td>11266475</td>\n",
       "      <td>2</td>\n",
       "      <td>redheart kinky kaylani crown rear access vip v...</td>\n",
       "      <td>nt tired old bait switch picture tenyr old twe...</td>\n",
       "      <td>21</td>\n",
       "      <td>116</td>\n",
       "      <td>0</td>\n",
       "      <td>0</td>\n",
       "      <td>0.233074</td>\n",
       "      <td>0.236686</td>\n",
       "      <td>0.000000</td>\n",
       "      <td>0.000000</td>\n",
       "    </tr>\n",
       "    <tr>\n",
       "      <th>...</th>\n",
       "      <td>...</td>\n",
       "      <td>...</td>\n",
       "      <td>...</td>\n",
       "      <td>...</td>\n",
       "      <td>...</td>\n",
       "      <td>...</td>\n",
       "      <td>...</td>\n",
       "      <td>...</td>\n",
       "      <td>...</td>\n",
       "      <td>...</td>\n",
       "      <td>...</td>\n",
       "      <td>...</td>\n",
       "    </tr>\n",
       "    <tr>\n",
       "      <th>12345</th>\n",
       "      <td>11119322</td>\n",
       "      <td>5</td>\n",
       "      <td>houston outcall beautiful asian girl julie twe...</td>\n",
       "      <td>hello gentleman name julie twenty-three year o...</td>\n",
       "      <td>18</td>\n",
       "      <td>93</td>\n",
       "      <td>0</td>\n",
       "      <td>1</td>\n",
       "      <td>0.204313</td>\n",
       "      <td>0.242756</td>\n",
       "      <td>0.000000</td>\n",
       "      <td>0.002610</td>\n",
       "    </tr>\n",
       "    <tr>\n",
       "      <th>12346</th>\n",
       "      <td>5727617</td>\n",
       "      <td>1</td>\n",
       "      <td>stag party stripper two hundred and fiftyhr tw...</td>\n",
       "      <td>call toll free one visit angel eyez seven webs...</td>\n",
       "      <td>26</td>\n",
       "      <td>73</td>\n",
       "      <td>0</td>\n",
       "      <td>0</td>\n",
       "      <td>0.291807</td>\n",
       "      <td>0.089670</td>\n",
       "      <td>0.000000</td>\n",
       "      <td>0.000000</td>\n",
       "    </tr>\n",
       "    <tr>\n",
       "      <th>12347</th>\n",
       "      <td>8395124</td>\n",
       "      <td>5</td>\n",
       "      <td>heartwithribbon asian girl jane crown crown cr...</td>\n",
       "      <td>hey guy name jane wellreviewed openminded hot ...</td>\n",
       "      <td>21</td>\n",
       "      <td>98</td>\n",
       "      <td>1</td>\n",
       "      <td>0</td>\n",
       "      <td>0.308370</td>\n",
       "      <td>0.242514</td>\n",
       "      <td>0.014684</td>\n",
       "      <td>0.000000</td>\n",
       "    </tr>\n",
       "    <tr>\n",
       "      <th>12348</th>\n",
       "      <td>1549586</td>\n",
       "      <td>5</td>\n",
       "      <td>new ★ massage best sensual adult health offer ...</td>\n",
       "      <td>enjoy new moonlight spa nt hesitate experience...</td>\n",
       "      <td>20</td>\n",
       "      <td>128</td>\n",
       "      <td>0</td>\n",
       "      <td>0</td>\n",
       "      <td>0.195886</td>\n",
       "      <td>0.212237</td>\n",
       "      <td>0.000000</td>\n",
       "      <td>0.000000</td>\n",
       "    </tr>\n",
       "    <tr>\n",
       "      <th>12349</th>\n",
       "      <td>12902352</td>\n",
       "      <td>2</td>\n",
       "      <td>heartwitharrow heartwitharrow heartwitharrow h...</td>\n",
       "      <td>hi name cindy sensual passionate woman truely ...</td>\n",
       "      <td>23</td>\n",
       "      <td>98</td>\n",
       "      <td>1</td>\n",
       "      <td>0</td>\n",
       "      <td>0.395869</td>\n",
       "      <td>0.250575</td>\n",
       "      <td>0.017212</td>\n",
       "      <td>0.000000</td>\n",
       "    </tr>\n",
       "  </tbody>\n",
       "</table>\n",
       "<p>12350 rows × 12 columns</p>\n",
       "</div>"
      ],
      "text/plain": [
       "             id  label                                              title  \\\n",
       "0       2632347      4                              ms chrissy twenty-two   \n",
       "1      11645643      1           everybody love filipina girl twenty-nine   \n",
       "2      15199346      4  new sexy asian girl noentry ️ noentry ️ noentr...   \n",
       "3      14477454      0  freaky t eggplant peach top bottom nineinch fu...   \n",
       "4      11266475      2  redheart kinky kaylani crown rear access vip v...   \n",
       "...         ...    ...                                                ...   \n",
       "12345  11119322      5  houston outcall beautiful asian girl julie twe...   \n",
       "12346   5727617      1  stag party stripper two hundred and fiftyhr tw...   \n",
       "12347   8395124      5  heartwithribbon asian girl jane crown crown cr...   \n",
       "12348   1549586      5  new ★ massage best sensual adult health offer ...   \n",
       "12349  12902352      2  heartwitharrow heartwitharrow heartwitharrow h...   \n",
       "\n",
       "                                                    body  num_title_emojis  \\\n",
       "0      tall sexy slim one hundred real reasonable cle...                 4   \n",
       "1      hi boys s miss sweet oneoo filipina girl kai l...                 7   \n",
       "2      hello gentleman fleurdelis fleurdelis mimi asi...                37   \n",
       "3      • treat heaven earth globeshowingEuropeAfrica ...                18   \n",
       "4      nt tired old bait switch picture tenyr old twe...                21   \n",
       "...                                                  ...               ...   \n",
       "12345  hello gentleman name julie twenty-three year o...                18   \n",
       "12346  call toll free one visit angel eyez seven webs...                26   \n",
       "12347  hey guy name jane wellreviewed openminded hot ...                21   \n",
       "12348  enjoy new moonlight spa nt hesitate experience...                20   \n",
       "12349  hi name cindy sensual passionate woman truely ...                23   \n",
       "\n",
       "       num_body_emojis  num_title_sex  num_body_sex  prop_title_emojis  \\\n",
       "0                   64              0             1           0.264901   \n",
       "1                   96              0             0           0.193906   \n",
       "2                  124              1             1           0.410655   \n",
       "3                   63              0             0           0.299501   \n",
       "4                  116              0             0           0.233074   \n",
       "...                ...            ...           ...                ...   \n",
       "12345               93              0             1           0.204313   \n",
       "12346               73              0             0           0.291807   \n",
       "12347               98              1             0           0.308370   \n",
       "12348              128              0             0           0.195886   \n",
       "12349               98              1             0           0.395869   \n",
       "\n",
       "       prop_body_emojis  prop_title_sex  prop_body_sex  \n",
       "0              0.333160        0.000000       0.005206  \n",
       "1              0.244836        0.000000       0.000000  \n",
       "2              0.286971        0.011099       0.002314  \n",
       "3              0.302739        0.000000       0.000000  \n",
       "4              0.236686        0.000000       0.000000  \n",
       "...                 ...             ...            ...  \n",
       "12345          0.242756        0.000000       0.002610  \n",
       "12346          0.089670        0.000000       0.000000  \n",
       "12347          0.242514        0.014684       0.000000  \n",
       "12348          0.212237        0.000000       0.000000  \n",
       "12349          0.250575        0.017212       0.000000  \n",
       "\n",
       "[12350 rows x 12 columns]"
      ]
     },
     "execution_count": 12,
     "metadata": {},
     "output_type": "execute_result"
    }
   ],
   "source": [
    "mydf['title']=mydf['title'].str.lower()\n",
    "mydf['title']=mydf['title'].astype(str).apply(clean_html)\n",
    "mydf['title']=mydf['title'].astype(str).apply(convert_emoticons)\n",
    "mydf['title']=mydf['title'].astype(str).apply(convert_emojis)\n",
    "mydf['title']=mydf['title'].astype(str).apply(remove_stopwords)\n",
    "mydf['title']=mydf['title'].astype(str).apply(strip_punctuation)\n",
    "mydf['title']=mydf['title'].astype(str).apply(to_number)\n",
    "mydf['title']=mydf['title'].astype(str).apply(lemmatize_words)\n",
    "\n",
    "mydf['body']=mydf['body'].str.lower()\n",
    "mydf['body']=mydf['body'].astype(str).apply(clean_html)\n",
    "mydf['body']=mydf['body'].astype(str).apply(convert_emoticons)\n",
    "mydf['body']=mydf['body'].astype(str).apply(convert_emojis)\n",
    "mydf['body']=mydf['body'].astype(str).apply(remove_stopwords)\n",
    "mydf['body']=mydf['body'].astype(str).apply(strip_punctuation)\n",
    "mydf['body']=mydf['body'].astype(str).apply(to_number)\n",
    "mydf['body']=mydf['body'].astype(str).apply(lemmatize_words)\n",
    "mydf"
   ]
  },
  {
   "cell_type": "markdown",
   "metadata": {},
   "source": [
    "# Write to CSV"
   ]
  },
  {
   "cell_type": "code",
   "execution_count": 13,
   "metadata": {},
   "outputs": [],
   "source": [
    "mydf.to_csv('D:/Human_Trafficking/ht.csv', index=False)\n"
   ]
  },
  {
   "cell_type": "markdown",
   "metadata": {},
   "source": [
    "# Reload Data"
   ]
  },
  {
   "cell_type": "code",
   "execution_count": 14,
   "metadata": {},
   "outputs": [
    {
     "data": {
      "text/plain": [
       "array([8296, 4054], dtype=int64)"
      ]
     },
     "execution_count": 14,
     "metadata": {},
     "output_type": "execute_result"
    }
   ],
   "source": [
    "mydf=pd.read_csv('D:/Human_Trafficking/ht.csv')\n",
    "mydict={0:0, 1:0, 2:0, 3:0, 4:1, 5:1, 6:1}\n",
    "mydf['label']=mydf['label'].replace(dict(mydict))\n",
    "np.bincount(mydf['label'].values)"
   ]
  },
  {
   "cell_type": "markdown",
   "metadata": {},
   "source": [
    "# Train Test Split"
   ]
  },
  {
   "cell_type": "code",
   "execution_count": 15,
   "metadata": {},
   "outputs": [
    {
     "data": {
      "text/plain": [
       "array([6638, 6484], dtype=int64)"
      ]
     },
     "execution_count": 15,
     "metadata": {},
     "output_type": "execute_result"
    }
   ],
   "source": [
    "x_train, x_test, y_train, y_test = tts(mydf.iloc[:,2:11], mydf['label'], test_size=0.2, random_state=42)#title\n",
    "x_train=x_train.append(x_train[y_train==1]) #shortcut..replace with mydf.sample(frac=1.0, replace=True, random_state=1)\n",
    "y_train=y_train.append(y_train[y_train==1])\n",
    "np.bincount(y_train)"
   ]
  },
  {
   "cell_type": "markdown",
   "metadata": {},
   "source": [
    "# Make Data Sets"
   ]
  },
  {
   "cell_type": "code",
   "execution_count": 16,
   "metadata": {},
   "outputs": [],
   "source": [
    "x_train1=x_train['title']\n",
    "x_train2=x_train['body']\n",
    "x_test1=x_test['title']\n",
    "x_test2=x_test['body']"
   ]
  },
  {
   "cell_type": "markdown",
   "metadata": {},
   "source": [
    "# Min Max Scale for Continuous Variables"
   ]
  },
  {
   "cell_type": "code",
   "execution_count": 17,
   "metadata": {},
   "outputs": [
    {
     "data": {
      "text/html": [
       "<div>\n",
       "<style scoped>\n",
       "    .dataframe tbody tr th:only-of-type {\n",
       "        vertical-align: middle;\n",
       "    }\n",
       "\n",
       "    .dataframe tbody tr th {\n",
       "        vertical-align: top;\n",
       "    }\n",
       "\n",
       "    .dataframe thead th {\n",
       "        text-align: right;\n",
       "    }\n",
       "</style>\n",
       "<table border=\"1\" class=\"dataframe\">\n",
       "  <thead>\n",
       "    <tr style=\"text-align: right;\">\n",
       "      <th></th>\n",
       "      <th>title</th>\n",
       "      <th>body</th>\n",
       "      <th>num_title_emojis</th>\n",
       "      <th>num_body_emojis</th>\n",
       "      <th>num_title_sex</th>\n",
       "      <th>num_body_sex</th>\n",
       "      <th>prop_title_emojis</th>\n",
       "      <th>prop_body_emojis</th>\n",
       "      <th>prop_title_sex</th>\n",
       "    </tr>\n",
       "  </thead>\n",
       "  <tbody>\n",
       "    <tr>\n",
       "      <th>10132</th>\n",
       "      <td>dashingaway dashingaway dashingaway k dashinga...</td>\n",
       "      <td>take sexiness seduction whole different level ...</td>\n",
       "      <td>0.382716</td>\n",
       "      <td>0.044490</td>\n",
       "      <td>0.25</td>\n",
       "      <td>0.04</td>\n",
       "      <td>0.674728</td>\n",
       "      <td>0.271144</td>\n",
       "      <td>0.009891</td>\n",
       "    </tr>\n",
       "    <tr>\n",
       "      <th>4484</th>\n",
       "      <td>jessica hibiscus springfield va twenty-nine</td>\n",
       "      <td>im im bestbout idont use fake picturei like cl...</td>\n",
       "      <td>0.030864</td>\n",
       "      <td>0.020176</td>\n",
       "      <td>0.00</td>\n",
       "      <td>0.00</td>\n",
       "      <td>0.187533</td>\n",
       "      <td>0.233381</td>\n",
       "      <td>0.000000</td>\n",
       "    </tr>\n",
       "    <tr>\n",
       "      <th>11620</th>\n",
       "      <td>special let make deal kissingfacewithsmilingey...</td>\n",
       "      <td>gemstone sparkle im destiny always clean respe...</td>\n",
       "      <td>0.080247</td>\n",
       "      <td>0.040352</td>\n",
       "      <td>0.00</td>\n",
       "      <td>0.02</td>\n",
       "      <td>0.266738</td>\n",
       "      <td>0.259366</td>\n",
       "      <td>0.000000</td>\n",
       "    </tr>\n",
       "    <tr>\n",
       "      <th>3328</th>\n",
       "      <td>vip blonde bombshell redheart ️ kissmark redhe...</td>\n",
       "      <td>name mekenzie tire get ask call one hundred fr...</td>\n",
       "      <td>0.135802</td>\n",
       "      <td>0.046560</td>\n",
       "      <td>0.00</td>\n",
       "      <td>0.00</td>\n",
       "      <td>0.299760</td>\n",
       "      <td>0.265535</td>\n",
       "      <td>0.000000</td>\n",
       "    </tr>\n",
       "    <tr>\n",
       "      <th>3115</th>\n",
       "      <td>redcircle redheart moneybag ⎛⎝do nt escort see...</td>\n",
       "      <td>currently seek aspire experienced dancer adult...</td>\n",
       "      <td>0.166667</td>\n",
       "      <td>0.195034</td>\n",
       "      <td>0.25</td>\n",
       "      <td>0.02</td>\n",
       "      <td>0.263944</td>\n",
       "      <td>0.208467</td>\n",
       "      <td>0.009699</td>\n",
       "    </tr>\n",
       "  </tbody>\n",
       "</table>\n",
       "</div>"
      ],
      "text/plain": [
       "                                                   title  \\\n",
       "10132  dashingaway dashingaway dashingaway k dashinga...   \n",
       "4484         jessica hibiscus springfield va twenty-nine   \n",
       "11620  special let make deal kissingfacewithsmilingey...   \n",
       "3328   vip blonde bombshell redheart ️ kissmark redhe...   \n",
       "3115   redcircle redheart moneybag ⎛⎝do nt escort see...   \n",
       "\n",
       "                                                    body  num_title_emojis  \\\n",
       "10132  take sexiness seduction whole different level ...          0.382716   \n",
       "4484   im im bestbout idont use fake picturei like cl...          0.030864   \n",
       "11620  gemstone sparkle im destiny always clean respe...          0.080247   \n",
       "3328   name mekenzie tire get ask call one hundred fr...          0.135802   \n",
       "3115   currently seek aspire experienced dancer adult...          0.166667   \n",
       "\n",
       "       num_body_emojis  num_title_sex  num_body_sex  prop_title_emojis  \\\n",
       "10132         0.044490           0.25          0.04           0.674728   \n",
       "4484          0.020176           0.00          0.00           0.187533   \n",
       "11620         0.040352           0.00          0.02           0.266738   \n",
       "3328          0.046560           0.00          0.00           0.299760   \n",
       "3115          0.195034           0.25          0.02           0.263944   \n",
       "\n",
       "       prop_body_emojis  prop_title_sex  \n",
       "10132          0.271144        0.009891  \n",
       "4484           0.233381        0.000000  \n",
       "11620          0.259366        0.000000  \n",
       "3328           0.265535        0.000000  \n",
       "3115           0.208467        0.009699  "
      ]
     },
     "execution_count": 17,
     "metadata": {},
     "output_type": "execute_result"
    }
   ],
   "source": [
    "from sklearn.preprocessing import MinMaxScaler as mms\n",
    "transform=mms()\n",
    "\n",
    "x_train.iloc[:,2:8]=transform.fit_transform(x_train.iloc[:,2:8])\n",
    "x_test.iloc[:,2:8]=transform.transform(x_test.iloc[:,2:8])\n",
    "\n",
    "x_train.head()"
   ]
  },
  {
   "cell_type": "markdown",
   "metadata": {},
   "source": [
    "# Tokenize Training Data"
   ]
  },
  {
   "cell_type": "code",
   "execution_count": 18,
   "metadata": {},
   "outputs": [
    {
     "name": "stdout",
     "output_type": "stream",
     "text": [
      "(13122, 131) (13122, 612) (13122, 6)\n"
     ]
    }
   ],
   "source": [
    "from tensorflow.keras.preprocessing.text import Tokenizer\n",
    "from tensorflow.keras.preprocessing.sequence import pad_sequences\n",
    "\n",
    "num_words = 50000\n",
    "oov_token = '<UNK>'\n",
    "pad_type = 'post'\n",
    "trunc_type = 'post'\n",
    "\n",
    "tokenizer = Tokenizer(num_words=num_words, oov_token=oov_token)\n",
    "\n",
    "tokenizer.fit_on_texts(x_train1.astype('str'))\n",
    "tokenizer.fit_on_texts(x_train2.astype('str'))\n",
    "\n",
    "# Encode training data sentences into sequences\n",
    "train_sequences1 = tokenizer.texts_to_sequences(x_train1.astype('str'))\n",
    "train_sequences2 = tokenizer.texts_to_sequences(x_train2.astype('str'))\n",
    "\n",
    "# Get max training sequence length\n",
    "maxlen1 = max([len(x) for x in train_sequences1])\n",
    "maxlen2 = max([len(x) for x in train_sequences2])\n",
    "\n",
    "# Pad the training sequences\n",
    "xtrain_1 = pad_sequences(train_sequences1, padding=pad_type, truncating=trunc_type, maxlen=maxlen1)\n",
    "xtrain_2 = pad_sequences(train_sequences2, padding=pad_type, truncating=trunc_type, maxlen=maxlen2)\n",
    "\n",
    "xtrain_3=x_train.iloc[:,2:8].values\n",
    "\n",
    "print(xtrain_1.shape, xtrain_2.shape, xtrain_3.shape)\n"
   ]
  },
  {
   "cell_type": "markdown",
   "metadata": {},
   "source": [
    "# Tokenize Test Data"
   ]
  },
  {
   "cell_type": "code",
   "execution_count": 19,
   "metadata": {},
   "outputs": [
    {
     "name": "stdout",
     "output_type": "stream",
     "text": [
      "(2470, 131) (2470, 612) (2470, 6)\n"
     ]
    }
   ],
   "source": [
    "test_sequences1 = tokenizer.texts_to_sequences(x_test1.astype('str'))\n",
    "test_sequences2 = tokenizer.texts_to_sequences(x_test2.astype('str'))\n",
    "xtest_1 = pad_sequences(test_sequences1, padding=pad_type, truncating=trunc_type, maxlen=maxlen1)\n",
    "xtest_2 = pad_sequences(test_sequences2, padding=pad_type, truncating=trunc_type, maxlen=maxlen2)\n",
    "xtest_3 = x_test.iloc[:,2:8].values\n",
    "\n",
    "print(xtest_1.shape, xtest_2.shape, xtest_3.shape)\n"
   ]
  },
  {
   "cell_type": "markdown",
   "metadata": {},
   "source": [
    "# Multi-Input Model"
   ]
  },
  {
   "cell_type": "code",
   "execution_count": 27,
   "metadata": {},
   "outputs": [
    {
     "name": "stdout",
     "output_type": "stream",
     "text": [
      "Model: \"functional_7\"\n",
      "__________________________________________________________________________________________________\n",
      "Layer (type)                    Output Shape         Param #     Connected to                     \n",
      "==================================================================================================\n",
      "input_10 (InputLayer)           [(None, 131)]        0                                            \n",
      "__________________________________________________________________________________________________\n",
      "input_11 (InputLayer)           [(None, 612)]        0                                            \n",
      "__________________________________________________________________________________________________\n",
      "embedding_6 (Embedding)         (None, 131, 512)     15395328    input_10[0][0]                   \n",
      "__________________________________________________________________________________________________\n",
      "embedding_7 (Embedding)         (None, 612, 512)     15395328    input_11[0][0]                   \n",
      "__________________________________________________________________________________________________\n",
      "bidirectional_12 (Bidirectional (None, 131, 512)     1574912     embedding_6[0][0]                \n",
      "__________________________________________________________________________________________________\n",
      "bidirectional_14 (Bidirectional (None, 612, 512)     1574912     embedding_7[0][0]                \n",
      "__________________________________________________________________________________________________\n",
      "input_12 (InputLayer)           [(None, 6)]          0                                            \n",
      "__________________________________________________________________________________________________\n",
      "bidirectional_13 (Bidirectional (None, 512)          1574912     bidirectional_12[0][0]           \n",
      "__________________________________________________________________________________________________\n",
      "bidirectional_15 (Bidirectional (None, 512)          1574912     bidirectional_14[0][0]           \n",
      "__________________________________________________________________________________________________\n",
      "dense_9 (Dense)                 (None, 64)           448         input_12[0][0]                   \n",
      "__________________________________________________________________________________________________\n",
      "concatenate_3 (Concatenate)     (None, 1088)         0           bidirectional_13[0][0]           \n",
      "                                                                 bidirectional_15[0][0]           \n",
      "                                                                 dense_9[0][0]                    \n",
      "__________________________________________________________________________________________________\n",
      "dense_10 (Dense)                (None, 64)           69696       concatenate_3[0][0]              \n",
      "__________________________________________________________________________________________________\n",
      "dense_11 (Dense)                (None, 1)            65          dense_10[0][0]                   \n",
      "==================================================================================================\n",
      "Total params: 37,160,513\n",
      "Trainable params: 37,160,513\n",
      "Non-trainable params: 0\n",
      "__________________________________________________________________________________________________\n"
     ]
    }
   ],
   "source": [
    "from tensorflow.keras.models import Sequential, Model\n",
    "from tensorflow.keras.layers import Activation, Dense, LSTM, Bidirectional, Concatenate\n",
    "\n",
    "input_1 = Input(shape=(xtest_1.shape[1],))\n",
    "input_2 = Input(shape=(xtest_2.shape[1],))\n",
    "input_3 = Input(shape=6,)\n",
    "\n",
    "p1=Embedding(len(tokenizer.word_index) + 1, 512)(input_1)\n",
    "p2=Bidirectional(LSTM(256, return_sequences=True, dropout=.5))(p1)\n",
    "p3=Bidirectional(LSTM(256, return_sequences=False, dropout=.2))(p2)\n",
    "\n",
    "q1=Embedding(len(tokenizer.word_index) + 1, 512)(input_2)\n",
    "q2=Bidirectional(LSTM(256, return_sequences=True, dropout=.5))(q1)\n",
    "q3=Bidirectional(LSTM(256, return_sequences=False, dropout=.2))(q2)\n",
    "\n",
    "r1=Dense(64)(input_3)\n",
    "\n",
    "concat=Concatenate()([p3,q3,r1])\n",
    "dense=Dense(64, activation='relu')(concat)\n",
    "output=Dense(1, activation='sigmoid')(dense)\n",
    "model=Model(inputs=[input_1, input_2, input_3], outputs=output)\n",
    "model.compile(optimizer='adamax', loss='binary_crossentropy', metrics=['binary_accuracy'])\n",
    "model.summary()"
   ]
  },
  {
   "cell_type": "code",
   "execution_count": 28,
   "metadata": {},
   "outputs": [
    {
     "data": {
      "image/png": "[encoded data removed]",
      "text/plain": [
       "<IPython.core.display.Image object>"
      ]
     },
     "execution_count": 28,
     "metadata": {},
     "output_type": "execute_result"
    }
   ],
   "source": [
    "from tensorflow.keras.utils import plot_model\n",
    "plot_model(model, to_file='model_plot3.png', show_shapes=True, show_layer_names=True)"
   ]
  },
  {
   "cell_type": "code",
   "execution_count": 29,
   "metadata": {},
   "outputs": [
    {
     "name": "stdout",
     "output_type": "stream",
     "text": [
      "Epoch 1/5\n",
      "329/329 [==============================] - ETA: 0s - loss: 0.4989 - binary_accuracy: 0.7613\n",
      "Epoch 00001: binary_accuracy improved from -inf to 0.76127, saving model to best_model.hdf5\n",
      "329/329 [==============================] - 120s 364ms/step - loss: 0.4989 - binary_accuracy: 0.7613 - val_loss: 0.6318 - val_binary_accuracy: 0.6004\n",
      "Epoch 2/5\n",
      "329/329 [==============================] - ETA: 0s - loss: 0.3958 - binary_accuracy: 0.8210\n",
      "Epoch 00002: binary_accuracy improved from 0.76127 to 0.82100, saving model to best_model.hdf5\n",
      "329/329 [==============================] - 121s 368ms/step - loss: 0.3958 - binary_accuracy: 0.8210 - val_loss: 0.4840 - val_binary_accuracy: 0.7406\n",
      "Epoch 3/5\n",
      "329/329 [==============================] - ETA: 0s - loss: 0.3480 - binary_accuracy: 0.8490\n",
      "Epoch 00003: binary_accuracy improved from 0.82100 to 0.84900, saving model to best_model.hdf5\n",
      "329/329 [==============================] - 121s 367ms/step - loss: 0.3480 - binary_accuracy: 0.8490 - val_loss: 0.3770 - val_binary_accuracy: 0.8225\n",
      "Epoch 4/5\n",
      "329/329 [==============================] - ETA: 0s - loss: 0.3085 - binary_accuracy: 0.8670\n",
      "Epoch 00004: binary_accuracy improved from 0.84900 to 0.86701, saving model to best_model.hdf5\n",
      "329/329 [==============================] - 129s 391ms/step - loss: 0.3085 - binary_accuracy: 0.8670 - val_loss: 0.3096 - val_binary_accuracy: 0.8792\n",
      "Epoch 5/5\n",
      "329/329 [==============================] - ETA: 0s - loss: 0.2729 - binary_accuracy: 0.8885\n",
      "Epoch 00005: binary_accuracy improved from 0.86701 to 0.88854, saving model to best_model.hdf5\n",
      "329/329 [==============================] - 126s 384ms/step - loss: 0.2729 - binary_accuracy: 0.8885 - val_loss: 0.2783 - val_binary_accuracy: 0.8960\n"
     ]
    }
   ],
   "source": [
    "from tensorflow.keras.callbacks import ModelCheckpoint \n",
    "random.seed(1234)\n",
    "reset_keras()\n",
    "checkpoint = ModelCheckpoint(\"best_model.hdf5\", monitor='binary_accuracy', verbose=2,\n",
    "    save_best_only=True, mode='auto')\n",
    "history=model.fit(x=[xtrain_1,xtrain_2,xtrain_3],y=y_train,\n",
    "                  batch_size=32,verbose=1,validation_split=.2, epochs=5, callbacks=[checkpoint])"
   ]
  },
  {
   "cell_type": "markdown",
   "metadata": {},
   "source": [
    "# Evaluate on Test Set"
   ]
  },
  {
   "cell_type": "code",
   "execution_count": 30,
   "metadata": {},
   "outputs": [
    {
     "name": "stdout",
     "output_type": "stream",
     "text": [
      "78/78 [==============================] - 7s 92ms/step - loss: 0.5199 - binary_accuracy: 0.7850\n"
     ]
    }
   ],
   "source": [
    "from sklearn.metrics import classification_report as cr\n",
    "score=model.evaluate([xtest_1,xtest_2,xtest_3], y=y_test)\n"
   ]
  },
  {
   "cell_type": "markdown",
   "metadata": {},
   "source": [
    "# Predict on Test Set"
   ]
  },
  {
   "cell_type": "code",
   "execution_count": 50,
   "metadata": {},
   "outputs": [],
   "source": [
    "predict=model.predict([xtest_1,xtest_2,xtest_3])\n",
    "predict1=np.squeeze(predict)\n",
    "predict1=np.round(predict,0)"
   ]
  },
  {
   "cell_type": "markdown",
   "metadata": {},
   "source": [
    "# Generate Metrics"
   ]
  },
  {
   "cell_type": "code",
   "execution_count": 51,
   "metadata": {},
   "outputs": [
    {
     "name": "stdout",
     "output_type": "stream",
     "text": [
      "              precision    recall  f1-score   support\n",
      "\n",
      "           0       0.87      0.81      0.83      1658\n",
      "           1       0.65      0.74      0.69       812\n",
      "\n",
      "    accuracy                           0.79      2470\n",
      "   macro avg       0.76      0.77      0.76      2470\n",
      "weighted avg       0.79      0.79      0.79      2470\n",
      "\n"
     ]
    }
   ],
   "source": [
    "from sklearn.metrics import classification_report as cr\n",
    "print(cr(y_test, predict1))"
   ]
  },
  {
   "cell_type": "code",
   "execution_count": 73,
   "metadata": {},
   "outputs": [
    {
     "data": {
      "text/plain": [
       "True         0.965116\n",
       "Predicted    0.993624\n",
       "dtype: float64"
      ]
     },
     "execution_count": 73,
     "metadata": {},
     "output_type": "execute_result"
    }
   ],
   "source": [
    "a=np.array([y_test,np.squeeze(predict)]).T\n",
    "a=pd.DataFrame(a, columns=['True','Predicted'])\n",
    "means =a.groupby('True').mean()\n",
    "\n",
    "sub=a[a['Predicted']>.99]\n",
    "sub.mean()"
   ]
  },
  {
   "cell_type": "markdown",
   "metadata": {},
   "source": [
    "# Plot Accuracy"
   ]
  },
  {
   "cell_type": "code",
   "execution_count": 38,
   "metadata": {},
   "outputs": [
    {
     "data": {
      "image/png": "[encoded data removed]",
      "text/plain": [
       "<Figure size 432x288 with 1 Axes>"
      ]
     },
     "metadata": {
      "needs_background": "light"
     },
     "output_type": "display_data"
    },
    {
     "data": {
      "image/png": "[encoded data removed]",
      "text/plain": [
       "<Figure size 432x288 with 1 Axes>"
      ]
     },
     "metadata": {
      "needs_background": "light"
     },
     "output_type": "display_data"
    }
   ],
   "source": [
    "import matplotlib.pyplot as plt\n",
    "\n",
    "plt.plot(history.history['binary_accuracy'])\n",
    "plt.plot(history.history['val_binary_accuracy'])\n",
    "\n",
    "plt.title('model accuracy')\n",
    "plt.ylabel('accuracy')\n",
    "plt.xlabel('epoch')\n",
    "plt.legend(['train','test'], loc='upper left')\n",
    "plt.show()\n",
    "\n",
    "plt.plot(history.history['loss'])\n",
    "plt.plot(history.history['val_loss'])\n",
    "\n",
    "plt.title('model loss')\n",
    "plt.ylabel('loss')\n",
    "plt.xlabel('epoch')\n",
    "plt.legend(['train','test'], loc='upper left')\n",
    "plt.show()"
   ]
  },
  {
   "cell_type": "code",
   "execution_count": null,
   "metadata": {},
   "outputs": [],
   "source": []
  }
 ],
 "metadata": {
  "kernelspec": {
   "display_name": "Python 3",
   "language": "python",
   "name": "python3"
  },
  "language_info": {
   "codemirror_mode": {
    "name": "ipython",
    "version": 3
   },
   "file_extension": ".py",
   "mimetype": "text/x-python",
   "name": "python",
   "nbconvert_exporter": "python",
   "pygments_lexer": "ipython3",
   "version": "3.7.10"
  }
 },
 "nbformat": 4,
 "nbformat_minor": 2
}
