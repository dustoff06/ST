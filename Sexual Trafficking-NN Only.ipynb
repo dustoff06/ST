{
 "cells": [
  {
   "cell_type": "markdown",
   "metadata": {},
   "source": [
    "# Multi-Input Sexual Trafficking Identification Model"
   ]
  },
  {
   "cell_type": "markdown",
   "metadata": {},
   "source": [
    "# Load Libraries"
   ]
  },
  {
   "cell_type": "code",
   "execution_count": 1,
   "metadata": {},
   "outputs": [
    {
     "name": "stdout",
     "output_type": "stream",
     "text": [
      "[name: \"/device:CPU:0\"\n",
      "device_type: \"CPU\"\n",
      "memory_limit: 268435456\n",
      "locality {\n",
      "}\n",
      "incarnation: 12841286924786645774\n",
      ", name: \"/device:XLA_CPU:0\"\n",
      "device_type: \"XLA_CPU\"\n",
      "memory_limit: 17179869184\n",
      "locality {\n",
      "}\n",
      "incarnation: 11196143398915090810\n",
      "physical_device_desc: \"device: XLA_CPU device\"\n",
      ", name: \"/device:GPU:0\"\n",
      "device_type: \"GPU\"\n",
      "memory_limit: 6918604064\n",
      "locality {\n",
      "  bus_id: 1\n",
      "  links {\n",
      "  }\n",
      "}\n",
      "incarnation: 18137427040203712163\n",
      "physical_device_desc: \"device: 0, name: NVIDIA GeForce RTX 2080 Super, pci bus id: 0000:01:00.0, compute capability: 7.5\"\n",
      ", name: \"/device:XLA_GPU:0\"\n",
      "device_type: \"XLA_GPU\"\n",
      "memory_limit: 17179869184\n",
      "locality {\n",
      "}\n",
      "incarnation: 2648416877223006674\n",
      "physical_device_desc: \"device: XLA_GPU device\"\n",
      "]\n"
     ]
    }
   ],
   "source": [
    "######################################################Initial Packages########################################################\n",
    "#Basic Operating System Stuff\n",
    "import sklearn\n",
    "import os\n",
    "import gc #garbage collector\n",
    "import random #random seed generator\n",
    "import sys\n",
    "import csv\n",
    "import subprocess\n",
    "\n",
    "#Basic dataframe, array, and math stuff\n",
    "import pandas as pd #data frame\n",
    "import math #math functions\n",
    "import numpy as np    #numerical package\n",
    "\n",
    "#Sci-kit Learn\n",
    "from sklearn.preprocessing import MinMaxScaler as mms\n",
    "from sklearn.metrics import classification_report as cr\n",
    "from sklearn.model_selection import train_test_split as tts\n",
    "\n",
    "#Tensorflow\n",
    "import tensorflow as tf #backend for keras\n",
    "from tensorflow.python.client import device_lib #to  see if my GPU is alive!\n",
    "import tensorflow.keras #keras\n",
    "from tensorflow.keras import Sequential,Input,Model #pull in the sequential, input layers and a model\n",
    "from tensorflow.keras import layers\n",
    "from tensorflow.keras.layers import Conv2D, Dense, Dropout, Flatten, Embedding, Bidirectional, Dense, LSTM, Concatenate, concatenate #pull in the dense, dropout, and flatten layers\n",
    "from tensorflow.keras.layers import Add, Activation, ZeroPadding2D, MaxPool2D, BatchNormalization\n",
    "from tensorflow.keras.applications import EfficientNetB6#MobileNetV2\n",
    "from tensorflow.keras.models import load_model\n",
    "from tensorflow.keras.callbacks import EarlyStopping,ModelCheckpoint # ReduceLROnPlateau, use for early stopping and reduction on level-out\n",
    "from tensorflow.keras import utils #Need utilities for the layers\n",
    "from tensorflow.keras.utils import get_file, plot_model #To load certain files & plot models\n",
    "import tensorflow.keras.backend as K #To write our own metrics and loss functions\n",
    "from tensorflow.keras.preprocessing.text import Tokenizer #RNN\n",
    "from tensorflow.keras.preprocessing.sequence import pad_sequences #RNN\n",
    "\n",
    "#Graphing\n",
    "import matplotlib #image save\n",
    "import matplotlib.pyplot as plt #plotting\n",
    "from matplotlib.pyplot import imshow #Show images\n",
    "from PIL import Image, ImageFont, ImageDraw\n",
    "import glob\n",
    "import cv2\n",
    "\n",
    "#Directory\n",
    "\n",
    "os.chdir(\"D:/Sexual_Trafficking\")\n",
    "\n",
    "%matplotlib inline\n",
    "\n",
    "#Verify GPU recognition\n",
    "print(device_lib.list_local_devices()) #Let's see if Python recognizes my GPU, shall we?\n",
    "##############################################################################################################################"
   ]
  },
  {
   "cell_type": "markdown",
   "metadata": {},
   "source": [
    "# Memory Management"
   ]
  },
  {
   "cell_type": "code",
   "execution_count": 2,
   "metadata": {},
   "outputs": [],
   "source": [
    "#################################################Memory Mgt / Directory Load###################################################\n",
    "def reset_keras():\n",
    "    tf.keras.backend.clear_session #This clears the GPU session\n",
    "    gc.collect()\n",
    "reset_keras()            \n",
    "################################################################################################################################"
   ]
  },
  {
   "cell_type": "markdown",
   "metadata": {},
   "source": [
    "# Emoji  Specific Loading"
   ]
  },
  {
   "cell_type": "code",
   "execution_count": 3,
   "metadata": {},
   "outputs": [],
   "source": [
    "#Basic NLP toolkit stuff\n",
    "import nltk\n",
    "from nltk.corpus import stopwords\n",
    "from nltk.tokenize import word_tokenize  \n",
    "import re\n",
    "import spacy\n",
    "from spacymoji import Emoji\n",
    "import pickle\n",
    "\n"
   ]
  },
  {
   "cell_type": "markdown",
   "metadata": {},
   "source": [
    "# Read Data "
   ]
  },
  {
   "cell_type": "code",
   "execution_count": 4,
   "metadata": {},
   "outputs": [
    {
     "data": {
      "text/html": [
       "<div>\n",
       "<style scoped>\n",
       "    .dataframe tbody tr th:only-of-type {\n",
       "        vertical-align: middle;\n",
       "    }\n",
       "\n",
       "    .dataframe tbody tr th {\n",
       "        vertical-align: top;\n",
       "    }\n",
       "\n",
       "    .dataframe thead th {\n",
       "        text-align: right;\n",
       "    }\n",
       "</style>\n",
       "<table border=\"1\" class=\"dataframe\">\n",
       "  <thead>\n",
       "    <tr style=\"text-align: right;\">\n",
       "      <th></th>\n",
       "      <th>id</th>\n",
       "      <th>label</th>\n",
       "      <th>title</th>\n",
       "      <th>body</th>\n",
       "      <th>both</th>\n",
       "    </tr>\n",
       "  </thead>\n",
       "  <tbody>\n",
       "    <tr>\n",
       "      <th>0</th>\n",
       "      <td>2632347</td>\n",
       "      <td>4</td>\n",
       "      <td>Ms Chrissy - 22</td>\n",
       "      <td>Tall &lt;br&gt; Sexy&lt;br&gt; Slim&lt;br&gt; 100% real&lt;br&gt; Reas...</td>\n",
       "      <td>Ms Chrissy - 22 Tall &lt;br&gt; Sexy&lt;br&gt; Slim&lt;br&gt; 10...</td>\n",
       "    </tr>\n",
       "    <tr>\n",
       "      <th>1</th>\n",
       "      <td>11645643</td>\n",
       "      <td>1</td>\n",
       "      <td>Everybody loves a Filipina Girl - 29</td>\n",
       "      <td>Hi there Boys it's Miss Sweet 1OO% Filipina gi...</td>\n",
       "      <td>Everybody loves a Filipina Girl - 29 Hi there ...</td>\n",
       "    </tr>\n",
       "    <tr>\n",
       "      <th>2</th>\n",
       "      <td>15199346</td>\n",
       "      <td>4</td>\n",
       "      <td>NEW Sexy Asian girl⛔️⛔️⛔️⛔️⛔️SUPER HOOOT⛔️⛔️⛔️...</td>\n",
       "      <td>Hello Gentlemen⚜⚜&lt;br&gt; I am Mimi Asian Girl &lt;br...</td>\n",
       "      <td>NEW Sexy Asian girl⛔️⛔️⛔️⛔️⛔️SUPER HOOOT⛔️⛔️⛔️...</td>\n",
       "    </tr>\n",
       "    <tr>\n",
       "      <th>3</th>\n",
       "      <td>14477454</td>\n",
       "      <td>0</td>\n",
       "      <td>Freaky . TS 🍆🍑 TOP AND BOTTOM (9INCH) fun pack...</td>\n",
       "      <td>• So Treat Yourself to Heaven on Earth...🌍 YOU...</td>\n",
       "      <td>Freaky . TS 🍆🍑 TOP AND BOTTOM (9INCH) fun pack...</td>\n",
       "    </tr>\n",
       "    <tr>\n",
       "      <th>4</th>\n",
       "      <td>11266475</td>\n",
       "      <td>2</td>\n",
       "      <td>❤Kinky Kaylani👑Rear Access &amp;VIP visits👑Great R...</td>\n",
       "      <td>Aren't you tired of the old bait and switch or...</td>\n",
       "      <td>❤Kinky Kaylani👑Rear Access &amp;VIP visits👑Great R...</td>\n",
       "    </tr>\n",
       "  </tbody>\n",
       "</table>\n",
       "</div>"
      ],
      "text/plain": [
       "         id  label                                              title  \\\n",
       "0   2632347      4                                    Ms Chrissy - 22   \n",
       "1  11645643      1               Everybody loves a Filipina Girl - 29   \n",
       "2  15199346      4  NEW Sexy Asian girl⛔️⛔️⛔️⛔️⛔️SUPER HOOOT⛔️⛔️⛔️...   \n",
       "3  14477454      0  Freaky . TS 🍆🍑 TOP AND BOTTOM (9INCH) fun pack...   \n",
       "4  11266475      2  ❤Kinky Kaylani👑Rear Access &VIP visits👑Great R...   \n",
       "\n",
       "                                                body  \\\n",
       "0  Tall <br> Sexy<br> Slim<br> 100% real<br> Reas...   \n",
       "1  Hi there Boys it's Miss Sweet 1OO% Filipina gi...   \n",
       "2  Hello Gentlemen⚜⚜<br> I am Mimi Asian Girl <br...   \n",
       "3  • So Treat Yourself to Heaven on Earth...🌍 YOU...   \n",
       "4  Aren't you tired of the old bait and switch or...   \n",
       "\n",
       "                                                both  \n",
       "0  Ms Chrissy - 22 Tall <br> Sexy<br> Slim<br> 10...  \n",
       "1  Everybody loves a Filipina Girl - 29 Hi there ...  \n",
       "2  NEW Sexy Asian girl⛔️⛔️⛔️⛔️⛔️SUPER HOOOT⛔️⛔️⛔️...  \n",
       "3  Freaky . TS 🍆🍑 TOP AND BOTTOM (9INCH) fun pack...  \n",
       "4  ❤Kinky Kaylani👑Rear Access &VIP visits👑Great R...  "
      ]
     },
     "execution_count": 4,
     "metadata": {},
     "output_type": "execute_result"
    }
   ],
   "source": [
    "mydf = pd.read_csv('data.csv', encoding=\"utf8\") #read original data\n",
    "mydf['both']=mydf['title']+' '+mydf['body']     #combine title and body data to extract Emojis\n",
    "mydf.head()"
   ]
  },
  {
   "cell_type": "markdown",
   "metadata": {},
   "source": [
    "# Load Emoji Handling Package"
   ]
  },
  {
   "cell_type": "code",
   "execution_count": 6,
   "metadata": {},
   "outputs": [
    {
     "data": {
      "text/plain": [
       "['emoji',\n",
       " 'tok2vec',\n",
       " 'tagger',\n",
       " 'parser',\n",
       " 'attribute_ruler',\n",
       " 'lemmatizer',\n",
       " 'ner']"
      ]
     },
     "execution_count": 6,
     "metadata": {},
     "output_type": "execute_result"
    }
   ],
   "source": [
    "spacy.prefer_gpu()                 #use the GPU if available\n",
    "nlp = spacy.load(\"en_core_web_lg\") #load the large version of the emojis\n",
    "emoji = Emoji(nlp)                 #initialize Emoji set\n",
    "nlp.add_pipe(\"emoji\", first=True)  #add emoji pipeline\n",
    "nlp.pipe_names                     #enumerate nlp pipeline\n",
    "#'emoji': ID emoji, 'tok2vec': tokenize unigrams / bigrams,  'tagger':part of speech, 'parser': dependency parser\n",
    "#'attribute_ruler': exception handling, 'lemmatizer': lemma,  'ner': named entity recognizer"
   ]
  },
  {
   "cell_type": "markdown",
   "metadata": {},
   "source": [
    "# Look at the Emoji's"
   ]
  },
  {
   "cell_type": "markdown",
   "metadata": {},
   "source": [
    "# All Emojis from Title & Body"
   ]
  },
  {
   "cell_type": "code",
   "execution_count": 8,
   "metadata": {},
   "outputs": [
    {
     "name": "stdout",
     "output_type": "stream",
     "text": [
      "0                                                       []\n",
      "1                                                       []\n",
      "2        [⛔, ⛔, ⛔, ⛔, ⛔, ⛔, ⛔, ⛔, ⛔, ⛔, ⛔, ⛔, ⛔, ⛔, ⚜, ...\n",
      "3                     [🍆, 🍑, 🎉, 🎊, 🌍, 👉, 👉, 👉, 👉, 👉, 🍃, 🙌]\n",
      "4                                          [❤, 👑, 👑, ❤, ❤]\n",
      "                               ...                        \n",
      "12345                                                   []\n",
      "12346                       [📒, 📒, 📒, 📒, 📒, 📒, 📒, 📒, 📒, 📒]\n",
      "12347                       [💝, 👑, 👑, 👑, 💎, 💎, 💎, 👑, 👑, 👑]\n",
      "12348                                               [☎, ➡]\n",
      "12349              [💘, 💘, 💘, 💘, 🌹, 🌹, 🌹, 🌹, 🌹, 🌹, 🌹, 🌹, 🌹]\n",
      "Length: 12350, dtype: object\n"
     ]
    }
   ],
   "source": [
    "tmp=mydf.values #get the dataframe values\n",
    "\n",
    "def extract_emojies(x):     #define function\n",
    "  tmp = nlp(str(x['both'])) #get both the title and body text\n",
    "  emojis = [token.text for token in tmp if token._.is_emoji] #get the emoji tokens\n",
    "  return emojis\n",
    "\n",
    "emojies_df_both = mydf.apply(extract_emojies, axis=1) #look at the emojis in the title only (quicker)\n",
    "print(emojies_df_both)\n",
    "\n",
    "del tmp\n",
    "reset_keras()"
   ]
  },
  {
   "cell_type": "code",
   "execution_count": 9,
   "metadata": {},
   "outputs": [
    {
     "name": "stdout",
     "output_type": "stream",
     "text": [
      "7671\n"
     ]
    },
    {
     "data": {
      "text/plain": [
       "179"
      ]
     },
     "execution_count": 9,
     "metadata": {},
     "output_type": "execute_result"
    }
   ],
   "source": [
    "print(np.argmax(emojies_df_both.astype('str').str.len()))\n",
    "len(emojies_df_both[7671])"
   ]
  },
  {
   "cell_type": "markdown",
   "metadata": {},
   "source": [
    "# Arrange Emojis"
   ]
  },
  {
   "cell_type": "code",
   "execution_count": 56,
   "metadata": {},
   "outputs": [
    {
     "data": {
      "text/plain": [
       "array([['👙', '❤', '❤', '👙'],\n",
       "       ['♥', '♥', '♥', '☎'],\n",
       "       ['☎', '♥', '♥', '♥'],\n",
       "       ['♥', '', '', '']], dtype='<U1')"
      ]
     },
     "execution_count": 56,
     "metadata": {},
     "output_type": "execute_result"
    }
   ],
   "source": [
    "test=emojies_df_both\n",
    "images=[]\n",
    "sizes=[]\n",
    "\n",
    "for i in range(len(emojies_df_both)):\n",
    "    length=len(emojies_df_both[i])\n",
    "    size=math.ceil(length**.5)\n",
    "    zeros=size**2-length\n",
    "    #print(zeros)\n",
    "    tmp=test[i]+['']*zeros\n",
    "    images.append(np.asarray(tmp).reshape(size,size))\n",
    "    sizes.append(size)\n",
    "images[3000]\n"
   ]
  },
  {
   "cell_type": "markdown",
   "metadata": {},
   "source": [
    "# Make Color Images from Emojis"
   ]
  },
  {
   "cell_type": "code",
   "execution_count": 92,
   "metadata": {},
   "outputs": [],
   "source": [
    "imsize=224 # set image size\n",
    "np.set_printoptions(threshold = sys. maxsize) \n",
    "\n",
    "z=0\n",
    "\n",
    "for i in np.arange(len(emojies_df_both)):\n",
    "    mysize=sizes[i]+1\n",
    "    image = Image.new('RGB', (mysize*50,mysize*50), 'white')\n",
    "    font = ImageFont.truetype('seguiemj.ttf', size=35)\n",
    "    draw = ImageDraw.Draw(image)\n",
    "    tmp=str(images[z]).replace(\"'\", \"\").replace('[','').replace(']','')\n",
    "    draw.text((2, 10), tmp, (0, 0, 0), font=font,embedded_color=True)\n",
    "    image=image.resize((imsize,imsize))\n",
    "    image.save('D:/Sexual_Trafficking/TotalImages/Image_' + str(z) + '.jpg')\n",
    "    z+=1"
   ]
  },
  {
   "cell_type": "markdown",
   "metadata": {},
   "source": [
    " # Count the Emojis / Special Words"
   ]
  },
  {
   "cell_type": "code",
   "execution_count": 93,
   "metadata": {},
   "outputs": [],
   "source": [
    "emcount1=[] #counts\n",
    "emcount2=[]\n",
    "pcount1=[] #proportions\n",
    "pcount2=[]\n",
    "sexcount1=[] #counts for derivatives of sex\n",
    "sexcount2=[]\n",
    "psexcount1=[] #proportions for derivatives of sex\n",
    "psexcount2=[]\n",
    "\n",
    "for i in range(len(mydf)):\n",
    "    l1=len(str(mydf.iloc[i,2]))\n",
    "    l2=len(str(mydf.iloc[i,3]))\n",
    "    st1=str(mydf.iloc[i,2])\n",
    "    st2=str(mydf.iloc[i,3])\n",
    "    tmp1=nlp(st1)\n",
    "    tmp2=nlp(st2)\n",
    "    emcount1.append(len(tmp1))\n",
    "    emcount2.append(len(tmp2))\n",
    "    pcount1.append(len(tmp1)/(l1+.1))\n",
    "    pcount2.append(len(tmp2)/(l2+.1))\n",
    "    tmp3=len(re.findall(r's\\s*e\\s*x\\s*',st1, re.IGNORECASE)) #find the word sex with or without spaces\n",
    "    tmp4=len(re.findall(r's\\s*e\\s*x\\s*',st2, re.IGNORECASE)) #same here\n",
    "    sexcount1.append(tmp3)\n",
    "    sexcount2.append(tmp4)\n",
    "    psexcount1.append(tmp3/(l1+.1))\n",
    "    psexcount2.append(tmp4/(l2+.1))                 \n",
    "\n",
    "    \n",
    "mydf['num_title_emojis']=emcount1 #add to dataframe\n",
    "mydf['num_body_emojis']=emcount2\n",
    "mydf['num_title_sex']=sexcount1\n",
    "mydf['num_body_sex']=sexcount2\n",
    "\n",
    "mydf['prop_title_emojis']=pcount1\n",
    "mydf['prop_body_emojis']=pcount2\n",
    "mydf['prop_title_sex']=psexcount1\n",
    "mydf['prop_body_sex']=psexcount2"
   ]
  },
  {
   "cell_type": "markdown",
   "metadata": {},
   "source": [
    "# Build Variables for Files"
   ]
  },
  {
   "cell_type": "code",
   "execution_count": 94,
   "metadata": {},
   "outputs": [],
   "source": [
    "myf3=glob.glob('D:/Sexual_Trafficking/TotalImages/*.jpg')\n",
    "myf3.sort(key=lambda f: int(re.sub('\\D', '', f)))\n",
    "mydf['TotalImages']=myf3\n",
    "mydf.to_csv('D:/Sexual_Trafficking/expanded.csv', index=False)\n",
    "reset_keras()"
   ]
  },
  {
   "cell_type": "markdown",
   "metadata": {},
   "source": [
    "# Plot the Relative Frequency Distribution"
   ]
  },
  {
   "cell_type": "code",
   "execution_count": 95,
   "metadata": {},
   "outputs": [
    {
     "data": {
      "image/png": "[encoded data removed]",
      "text/plain": [
       "<Figure size 432x288 with 1 Axes>"
      ]
     },
     "metadata": {
      "needs_background": "light"
     },
     "output_type": "display_data"
    }
   ],
   "source": [
    "tmp4=mydf.groupby('label')['prop_title_emojis'].mean()\n",
    "myseq=['SU','U','WU','Unk','WL','L', 'SL']\n",
    "plt.bar(myseq,tmp4)\n",
    "plt.title('Relative Frequency of Title Emojis by Trafficking Likelhood')\n",
    "plt.xlabel('S=Strongly, U=Unlikely, W=Weakly, Unk=Unknown,L=Likely')\n",
    "plt.ylabel('Relative Frequency in Postings')\n",
    "\n",
    "del tmp4\n",
    "\n",
    "reset_keras()"
   ]
  },
  {
   "cell_type": "markdown",
   "metadata": {},
   "source": [
    "# Recode Emojis / Emoticons to Text, Remove Stopwords / Punctuation, Convert to Lower Case / Remove Numbers"
   ]
  },
  {
   "cell_type": "code",
   "execution_count": 96,
   "metadata": {},
   "outputs": [],
   "source": [
    "import nltk\n",
    "import string\n",
    "from num2words import num2words\n",
    "from string import punctuation\n",
    "from emot.emo_unicode import UNICODE_EMOJI \n",
    "from emot.emo_unicode import EMOTICONS_EMO # For EMOTICONS\n",
    "from nltk.stem import WordNetLemmatizer\n",
    "from nltk.corpus import wordnet\n",
    "from bs4 import BeautifulSoup\n",
    "#nltk.download('wordnet')\n",
    "#nltk.download('averaged_perceptron_tagger')\n",
    "\n",
    "#nltk.download('stopwords')\n",
    "#nltk.download('punkt')\n",
    "lemmatizer = WordNetLemmatizer()\n",
    "stopwords = set(nltk.corpus.stopwords.words('english'))\n",
    "wordnet_map = {\"N\":wordnet.NOUN, \"V\":wordnet.VERB, \"J\":wordnet.ADJ, \"R\":wordnet.ADV}\n",
    "\n",
    "def clean_html(text):\n",
    "  CLEANR = re.compile('<.*?>') \n",
    "  text = re.sub(CLEANR, '', text)\n",
    "  return text\n",
    "\n",
    "def convert_emoticons(text):\n",
    "    for emot in EMOTICONS_EMO:\n",
    "        text = text.replace(emot, EMOTICONS_EMO[emot]+\" \".replace(\"\",\"\"))\n",
    "    return text\n",
    "\n",
    "def convert_emojis(text):\n",
    "    for emot in UNICODE_EMOJI:\n",
    "        text = text.replace(emot,UNICODE_EMOJI[emot]+\" \".replace(\"\",\"\"))\n",
    "    return text\n",
    "\n",
    "def remove_stopwords(text):\n",
    "    return [word for word in word_tokenize(text) if not word in stopwords]\n",
    "\n",
    "def strip_punctuation(text):\n",
    "    return ''.join(c for c in text if c not in punctuation)+' '    \n",
    "\n",
    "def to_number(text):    \n",
    "    return(re.sub(r\"(\\d+)\", lambda x: num2words(int(x.group(0))), text))\n",
    "\n",
    "def lemmatize_words(text):\n",
    "    pos_tagged_text = nltk.pos_tag(text.split())\n",
    "    return ' '.join([lemmatizer.lemmatize(word, wordnet_map.get(pos[0], wordnet.NOUN)) for word, pos in pos_tagged_text])"
   ]
  },
  {
   "cell_type": "markdown",
   "metadata": {},
   "source": [
    "# NLP Apply"
   ]
  },
  {
   "cell_type": "code",
   "execution_count": 97,
   "metadata": {},
   "outputs": [
    {
     "data": {
      "text/html": [
       "<div>\n",
       "<style scoped>\n",
       "    .dataframe tbody tr th:only-of-type {\n",
       "        vertical-align: middle;\n",
       "    }\n",
       "\n",
       "    .dataframe tbody tr th {\n",
       "        vertical-align: top;\n",
       "    }\n",
       "\n",
       "    .dataframe thead th {\n",
       "        text-align: right;\n",
       "    }\n",
       "</style>\n",
       "<table border=\"1\" class=\"dataframe\">\n",
       "  <thead>\n",
       "    <tr style=\"text-align: right;\">\n",
       "      <th></th>\n",
       "      <th>id</th>\n",
       "      <th>label</th>\n",
       "      <th>title</th>\n",
       "      <th>body</th>\n",
       "      <th>both</th>\n",
       "      <th>num_title_emojis</th>\n",
       "      <th>num_body_emojis</th>\n",
       "      <th>num_title_sex</th>\n",
       "      <th>num_body_sex</th>\n",
       "      <th>prop_title_emojis</th>\n",
       "      <th>prop_body_emojis</th>\n",
       "      <th>prop_title_sex</th>\n",
       "      <th>prop_body_sex</th>\n",
       "      <th>TotalImages</th>\n",
       "    </tr>\n",
       "  </thead>\n",
       "  <tbody>\n",
       "    <tr>\n",
       "      <th>0</th>\n",
       "      <td>2632347</td>\n",
       "      <td>4</td>\n",
       "      <td>ms chrissy twenty-two</td>\n",
       "      <td>tall sexy slim one hundred real reasonable cle...</td>\n",
       "      <td>Ms Chrissy - 22 Tall &lt;br&gt; Sexy&lt;br&gt; Slim&lt;br&gt; 10...</td>\n",
       "      <td>4</td>\n",
       "      <td>64</td>\n",
       "      <td>0</td>\n",
       "      <td>1</td>\n",
       "      <td>0.264901</td>\n",
       "      <td>0.333160</td>\n",
       "      <td>0.000000</td>\n",
       "      <td>0.005206</td>\n",
       "      <td>D:/Sexual_Trafficking/TotalImages\\Image_0.jpg</td>\n",
       "    </tr>\n",
       "    <tr>\n",
       "      <th>1</th>\n",
       "      <td>11645643</td>\n",
       "      <td>1</td>\n",
       "      <td>everybody love filipina girl twenty-nine</td>\n",
       "      <td>hi boys s miss sweet oneoo filipina girl kai l...</td>\n",
       "      <td>Everybody loves a Filipina Girl - 29 Hi there ...</td>\n",
       "      <td>7</td>\n",
       "      <td>96</td>\n",
       "      <td>0</td>\n",
       "      <td>0</td>\n",
       "      <td>0.193906</td>\n",
       "      <td>0.244836</td>\n",
       "      <td>0.000000</td>\n",
       "      <td>0.000000</td>\n",
       "      <td>D:/Sexual_Trafficking/TotalImages\\Image_1.jpg</td>\n",
       "    </tr>\n",
       "    <tr>\n",
       "      <th>2</th>\n",
       "      <td>15199346</td>\n",
       "      <td>4</td>\n",
       "      <td>new sexy asian girl noentry ️ noentry ️ noentr...</td>\n",
       "      <td>hello gentleman fleurdelis fleurdelis mimi asi...</td>\n",
       "      <td>NEW Sexy Asian girl⛔️⛔️⛔️⛔️⛔️SUPER HOOOT⛔️⛔️⛔️...</td>\n",
       "      <td>37</td>\n",
       "      <td>124</td>\n",
       "      <td>1</td>\n",
       "      <td>1</td>\n",
       "      <td>0.410655</td>\n",
       "      <td>0.286971</td>\n",
       "      <td>0.011099</td>\n",
       "      <td>0.002314</td>\n",
       "      <td>D:/Sexual_Trafficking/TotalImages\\Image_2.jpg</td>\n",
       "    </tr>\n",
       "    <tr>\n",
       "      <th>3</th>\n",
       "      <td>14477454</td>\n",
       "      <td>0</td>\n",
       "      <td>freaky t eggplant peach top bottom nineinch fu...</td>\n",
       "      <td>• treat heaven earth globeshowingEuropeAfrica ...</td>\n",
       "      <td>Freaky . TS 🍆🍑 TOP AND BOTTOM (9INCH) fun pack...</td>\n",
       "      <td>18</td>\n",
       "      <td>63</td>\n",
       "      <td>0</td>\n",
       "      <td>0</td>\n",
       "      <td>0.299501</td>\n",
       "      <td>0.302739</td>\n",
       "      <td>0.000000</td>\n",
       "      <td>0.000000</td>\n",
       "      <td>D:/Sexual_Trafficking/TotalImages\\Image_3.jpg</td>\n",
       "    </tr>\n",
       "    <tr>\n",
       "      <th>4</th>\n",
       "      <td>11266475</td>\n",
       "      <td>2</td>\n",
       "      <td>redheart kinky kaylani crown rear access vip v...</td>\n",
       "      <td>nt tired old bait switch picture tenyr old twe...</td>\n",
       "      <td>❤Kinky Kaylani👑Rear Access &amp;VIP visits👑Great R...</td>\n",
       "      <td>21</td>\n",
       "      <td>116</td>\n",
       "      <td>0</td>\n",
       "      <td>0</td>\n",
       "      <td>0.233074</td>\n",
       "      <td>0.236686</td>\n",
       "      <td>0.000000</td>\n",
       "      <td>0.000000</td>\n",
       "      <td>D:/Sexual_Trafficking/TotalImages\\Image_4.jpg</td>\n",
       "    </tr>\n",
       "    <tr>\n",
       "      <th>...</th>\n",
       "      <td>...</td>\n",
       "      <td>...</td>\n",
       "      <td>...</td>\n",
       "      <td>...</td>\n",
       "      <td>...</td>\n",
       "      <td>...</td>\n",
       "      <td>...</td>\n",
       "      <td>...</td>\n",
       "      <td>...</td>\n",
       "      <td>...</td>\n",
       "      <td>...</td>\n",
       "      <td>...</td>\n",
       "      <td>...</td>\n",
       "      <td>...</td>\n",
       "    </tr>\n",
       "    <tr>\n",
       "      <th>12345</th>\n",
       "      <td>11119322</td>\n",
       "      <td>5</td>\n",
       "      <td>houston outcall beautiful asian girl julie twe...</td>\n",
       "      <td>hello gentleman name julie twenty-three year o...</td>\n",
       "      <td>Houston Outcall Only *~*~*~*~* Beautiful Asian...</td>\n",
       "      <td>18</td>\n",
       "      <td>93</td>\n",
       "      <td>0</td>\n",
       "      <td>1</td>\n",
       "      <td>0.204313</td>\n",
       "      <td>0.242756</td>\n",
       "      <td>0.000000</td>\n",
       "      <td>0.002610</td>\n",
       "      <td>D:/Sexual_Trafficking/TotalImages\\Image_12345.jpg</td>\n",
       "    </tr>\n",
       "    <tr>\n",
       "      <th>12346</th>\n",
       "      <td>5727617</td>\n",
       "      <td>1</td>\n",
       "      <td>stag party stripper two hundred and fiftyhr tw...</td>\n",
       "      <td>call toll free one visit angel eyez seven webs...</td>\n",
       "      <td>STAG PARTY STRIPPERS $250HR For 2 ExoTic STrip...</td>\n",
       "      <td>26</td>\n",
       "      <td>73</td>\n",
       "      <td>0</td>\n",
       "      <td>0</td>\n",
       "      <td>0.291807</td>\n",
       "      <td>0.089670</td>\n",
       "      <td>0.000000</td>\n",
       "      <td>0.000000</td>\n",
       "      <td>D:/Sexual_Trafficking/TotalImages\\Image_12346.jpg</td>\n",
       "    </tr>\n",
       "    <tr>\n",
       "      <th>12347</th>\n",
       "      <td>8395124</td>\n",
       "      <td>5</td>\n",
       "      <td>heartwithribbon asian girl jane crown crown cr...</td>\n",
       "      <td>hey guy name jane wellreviewed openminded hot ...</td>\n",
       "      <td>💝 Asian Girl Jane 👑👑👑   💎 Busty 💎 Sexy 💎 👑👑👑 O...</td>\n",
       "      <td>21</td>\n",
       "      <td>98</td>\n",
       "      <td>1</td>\n",
       "      <td>0</td>\n",
       "      <td>0.308370</td>\n",
       "      <td>0.242514</td>\n",
       "      <td>0.014684</td>\n",
       "      <td>0.000000</td>\n",
       "      <td>D:/Sexual_Trafficking/TotalImages\\Image_12347.jpg</td>\n",
       "    </tr>\n",
       "    <tr>\n",
       "      <th>12348</th>\n",
       "      <td>1549586</td>\n",
       "      <td>5</td>\n",
       "      <td>new ★ massage best sensual adult health offer ...</td>\n",
       "      <td>enjoy new moonlight spa nt hesitate experience...</td>\n",
       "      <td>NEW ★ Our massage is best for sensual Adult he...</td>\n",
       "      <td>20</td>\n",
       "      <td>128</td>\n",
       "      <td>0</td>\n",
       "      <td>0</td>\n",
       "      <td>0.195886</td>\n",
       "      <td>0.212237</td>\n",
       "      <td>0.000000</td>\n",
       "      <td>0.000000</td>\n",
       "      <td>D:/Sexual_Trafficking/TotalImages\\Image_12348.jpg</td>\n",
       "    </tr>\n",
       "    <tr>\n",
       "      <th>12349</th>\n",
       "      <td>12902352</td>\n",
       "      <td>2</td>\n",
       "      <td>heartwitharrow heartwitharrow heartwitharrow h...</td>\n",
       "      <td>hi name cindy sensual passionate woman truely ...</td>\n",
       "      <td>💘💘💘💘 Outcall  🌹🌹🌹 Sexy 🌹🌹🌹 Hot Asian Girl 🌹🌹🌹 ...</td>\n",
       "      <td>23</td>\n",
       "      <td>98</td>\n",
       "      <td>1</td>\n",
       "      <td>0</td>\n",
       "      <td>0.395869</td>\n",
       "      <td>0.250575</td>\n",
       "      <td>0.017212</td>\n",
       "      <td>0.000000</td>\n",
       "      <td>D:/Sexual_Trafficking/TotalImages\\Image_12349.jpg</td>\n",
       "    </tr>\n",
       "  </tbody>\n",
       "</table>\n",
       "<p>12350 rows × 14 columns</p>\n",
       "</div>"
      ],
      "text/plain": [
       "             id  label                                              title  \\\n",
       "0       2632347      4                              ms chrissy twenty-two   \n",
       "1      11645643      1           everybody love filipina girl twenty-nine   \n",
       "2      15199346      4  new sexy asian girl noentry ️ noentry ️ noentr...   \n",
       "3      14477454      0  freaky t eggplant peach top bottom nineinch fu...   \n",
       "4      11266475      2  redheart kinky kaylani crown rear access vip v...   \n",
       "...         ...    ...                                                ...   \n",
       "12345  11119322      5  houston outcall beautiful asian girl julie twe...   \n",
       "12346   5727617      1  stag party stripper two hundred and fiftyhr tw...   \n",
       "12347   8395124      5  heartwithribbon asian girl jane crown crown cr...   \n",
       "12348   1549586      5  new ★ massage best sensual adult health offer ...   \n",
       "12349  12902352      2  heartwitharrow heartwitharrow heartwitharrow h...   \n",
       "\n",
       "                                                    body  \\\n",
       "0      tall sexy slim one hundred real reasonable cle...   \n",
       "1      hi boys s miss sweet oneoo filipina girl kai l...   \n",
       "2      hello gentleman fleurdelis fleurdelis mimi asi...   \n",
       "3      • treat heaven earth globeshowingEuropeAfrica ...   \n",
       "4      nt tired old bait switch picture tenyr old twe...   \n",
       "...                                                  ...   \n",
       "12345  hello gentleman name julie twenty-three year o...   \n",
       "12346  call toll free one visit angel eyez seven webs...   \n",
       "12347  hey guy name jane wellreviewed openminded hot ...   \n",
       "12348  enjoy new moonlight spa nt hesitate experience...   \n",
       "12349  hi name cindy sensual passionate woman truely ...   \n",
       "\n",
       "                                                    both  num_title_emojis  \\\n",
       "0      Ms Chrissy - 22 Tall <br> Sexy<br> Slim<br> 10...                 4   \n",
       "1      Everybody loves a Filipina Girl - 29 Hi there ...                 7   \n",
       "2      NEW Sexy Asian girl⛔️⛔️⛔️⛔️⛔️SUPER HOOOT⛔️⛔️⛔️...                37   \n",
       "3      Freaky . TS 🍆🍑 TOP AND BOTTOM (9INCH) fun pack...                18   \n",
       "4      ❤Kinky Kaylani👑Rear Access &VIP visits👑Great R...                21   \n",
       "...                                                  ...               ...   \n",
       "12345  Houston Outcall Only *~*~*~*~* Beautiful Asian...                18   \n",
       "12346  STAG PARTY STRIPPERS $250HR For 2 ExoTic STrip...                26   \n",
       "12347  💝 Asian Girl Jane 👑👑👑   💎 Busty 💎 Sexy 💎 👑👑👑 O...                21   \n",
       "12348  NEW ★ Our massage is best for sensual Adult he...                20   \n",
       "12349  💘💘💘💘 Outcall  🌹🌹🌹 Sexy 🌹🌹🌹 Hot Asian Girl 🌹🌹🌹 ...                23   \n",
       "\n",
       "       num_body_emojis  num_title_sex  num_body_sex  prop_title_emojis  \\\n",
       "0                   64              0             1           0.264901   \n",
       "1                   96              0             0           0.193906   \n",
       "2                  124              1             1           0.410655   \n",
       "3                   63              0             0           0.299501   \n",
       "4                  116              0             0           0.233074   \n",
       "...                ...            ...           ...                ...   \n",
       "12345               93              0             1           0.204313   \n",
       "12346               73              0             0           0.291807   \n",
       "12347               98              1             0           0.308370   \n",
       "12348              128              0             0           0.195886   \n",
       "12349               98              1             0           0.395869   \n",
       "\n",
       "       prop_body_emojis  prop_title_sex  prop_body_sex  \\\n",
       "0              0.333160        0.000000       0.005206   \n",
       "1              0.244836        0.000000       0.000000   \n",
       "2              0.286971        0.011099       0.002314   \n",
       "3              0.302739        0.000000       0.000000   \n",
       "4              0.236686        0.000000       0.000000   \n",
       "...                 ...             ...            ...   \n",
       "12345          0.242756        0.000000       0.002610   \n",
       "12346          0.089670        0.000000       0.000000   \n",
       "12347          0.242514        0.014684       0.000000   \n",
       "12348          0.212237        0.000000       0.000000   \n",
       "12349          0.250575        0.017212       0.000000   \n",
       "\n",
       "                                             TotalImages  \n",
       "0          D:/Sexual_Trafficking/TotalImages\\Image_0.jpg  \n",
       "1          D:/Sexual_Trafficking/TotalImages\\Image_1.jpg  \n",
       "2          D:/Sexual_Trafficking/TotalImages\\Image_2.jpg  \n",
       "3          D:/Sexual_Trafficking/TotalImages\\Image_3.jpg  \n",
       "4          D:/Sexual_Trafficking/TotalImages\\Image_4.jpg  \n",
       "...                                                  ...  \n",
       "12345  D:/Sexual_Trafficking/TotalImages\\Image_12345.jpg  \n",
       "12346  D:/Sexual_Trafficking/TotalImages\\Image_12346.jpg  \n",
       "12347  D:/Sexual_Trafficking/TotalImages\\Image_12347.jpg  \n",
       "12348  D:/Sexual_Trafficking/TotalImages\\Image_12348.jpg  \n",
       "12349  D:/Sexual_Trafficking/TotalImages\\Image_12349.jpg  \n",
       "\n",
       "[12350 rows x 14 columns]"
      ]
     },
     "execution_count": 97,
     "metadata": {},
     "output_type": "execute_result"
    }
   ],
   "source": [
    "mydf['title']=mydf['title'].str.lower()\n",
    "mydf['title']=mydf['title'].astype(str).apply(clean_html)\n",
    "mydf['title']=mydf['title'].astype(str).apply(convert_emoticons)\n",
    "mydf['title']=mydf['title'].astype(str).apply(convert_emojis)\n",
    "mydf['title']=mydf['title'].astype(str).apply(remove_stopwords)\n",
    "mydf['title']=mydf['title'].astype(str).apply(strip_punctuation)\n",
    "mydf['title']=mydf['title'].astype(str).apply(to_number)\n",
    "mydf['title']=mydf['title'].astype(str).apply(lemmatize_words)\n",
    "\n",
    "mydf['body']=mydf['body'].str.lower()\n",
    "mydf['body']=mydf['body'].astype(str).apply(clean_html)\n",
    "mydf['body']=mydf['body'].astype(str).apply(convert_emoticons)\n",
    "mydf['body']=mydf['body'].astype(str).apply(convert_emojis)\n",
    "mydf['body']=mydf['body'].astype(str).apply(remove_stopwords)\n",
    "mydf['body']=mydf['body'].astype(str).apply(strip_punctuation)\n",
    "mydf['body']=mydf['body'].astype(str).apply(to_number)\n",
    "mydf['body']=mydf['body'].astype(str).apply(lemmatize_words)\n",
    "mydf"
   ]
  },
  {
   "cell_type": "markdown",
   "metadata": {},
   "source": [
    "# Delete ID, Both, & Indices"
   ]
  },
  {
   "cell_type": "code",
   "execution_count": 98,
   "metadata": {},
   "outputs": [
    {
     "data": {
      "text/plain": [
       "Index(['label', 'title', 'body', 'num_title_emojis', 'num_body_emojis',\n",
       "       'num_title_sex', 'num_body_sex', 'prop_title_emojis',\n",
       "       'prop_body_emojis', 'prop_title_sex', 'prop_body_sex', 'TotalImages'],\n",
       "      dtype='object')"
      ]
     },
     "execution_count": 98,
     "metadata": {},
     "output_type": "execute_result"
    }
   ],
   "source": [
    "mydf=mydf.drop(columns=['id', 'both']) #drop ID and Both columns\n",
    "mydf = mydf.reset_index(drop=True) #reset the index\n",
    "reset_keras() #take out the papers and the trash\n",
    "mydf.columns"
   ]
  },
  {
   "cell_type": "markdown",
   "metadata": {},
   "source": [
    "# Write to CSV"
   ]
  },
  {
   "cell_type": "markdown",
   "metadata": {},
   "source": [
    "mydf.to_csv('D:/Sexual_Trafficking/ht.csv', index=False)"
   ]
  },
  {
   "cell_type": "code",
   "execution_count": null,
   "metadata": {},
   "outputs": [],
   "source": []
  },
  {
   "cell_type": "code",
   "execution_count": null,
   "metadata": {},
   "outputs": [],
   "source": []
  },
  {
   "cell_type": "code",
   "execution_count": null,
   "metadata": {},
   "outputs": [],
   "source": []
  },
  {
   "cell_type": "code",
   "execution_count": null,
   "metadata": {},
   "outputs": [],
   "source": []
  },
  {
   "cell_type": "code",
   "execution_count": null,
   "metadata": {},
   "outputs": [],
   "source": []
  },
  {
   "cell_type": "code",
   "execution_count": null,
   "metadata": {},
   "outputs": [],
   "source": []
  },
  {
   "cell_type": "code",
   "execution_count": null,
   "metadata": {},
   "outputs": [],
   "source": []
  },
  {
   "cell_type": "code",
   "execution_count": null,
   "metadata": {},
   "outputs": [],
   "source": []
  },
  {
   "cell_type": "markdown",
   "metadata": {},
   "source": [
    "# Initialize Model Settings"
   ]
  },
  {
   "cell_type": "code",
   "execution_count": 3,
   "metadata": {},
   "outputs": [],
   "source": [
    "reset_keras()\n",
    "num_epochs=20 #set the number of epochs...3 is optimal for most model combinations\n",
    "mybatch=32\n",
    "tf.random.set_seed(1234) #set random number seed for tensorflow, python, etc."
   ]
  },
  {
   "cell_type": "markdown",
   "metadata": {},
   "source": [
    "# Reload Data "
   ]
  },
  {
   "cell_type": "code",
   "execution_count": 4,
   "metadata": {},
   "outputs": [
    {
     "data": {
      "text/html": [
       "<div>\n",
       "<style scoped>\n",
       "    .dataframe tbody tr th:only-of-type {\n",
       "        vertical-align: middle;\n",
       "    }\n",
       "\n",
       "    .dataframe tbody tr th {\n",
       "        vertical-align: top;\n",
       "    }\n",
       "\n",
       "    .dataframe thead th {\n",
       "        text-align: right;\n",
       "    }\n",
       "</style>\n",
       "<table border=\"1\" class=\"dataframe\">\n",
       "  <thead>\n",
       "    <tr style=\"text-align: right;\">\n",
       "      <th></th>\n",
       "      <th>label</th>\n",
       "      <th>num_title_emojis</th>\n",
       "      <th>num_body_emojis</th>\n",
       "      <th>num_title_sex</th>\n",
       "      <th>num_body_sex</th>\n",
       "      <th>prop_title_emojis</th>\n",
       "      <th>prop_body_emojis</th>\n",
       "      <th>prop_title_sex</th>\n",
       "      <th>prop_body_sex</th>\n",
       "      <th>TotalImages</th>\n",
       "      <th>text</th>\n",
       "    </tr>\n",
       "  </thead>\n",
       "  <tbody>\n",
       "    <tr>\n",
       "      <th>0</th>\n",
       "      <td>1</td>\n",
       "      <td>4</td>\n",
       "      <td>64</td>\n",
       "      <td>0</td>\n",
       "      <td>1</td>\n",
       "      <td>0.264901</td>\n",
       "      <td>0.333160</td>\n",
       "      <td>0.000000</td>\n",
       "      <td>0.005206</td>\n",
       "      <td>D:/Sexual_Trafficking/TotalImages\\Image_0.jpg</td>\n",
       "      <td>ms chrissy twenty-two tall sexy slim one hundr...</td>\n",
       "    </tr>\n",
       "    <tr>\n",
       "      <th>1</th>\n",
       "      <td>0</td>\n",
       "      <td>7</td>\n",
       "      <td>96</td>\n",
       "      <td>0</td>\n",
       "      <td>0</td>\n",
       "      <td>0.193906</td>\n",
       "      <td>0.244836</td>\n",
       "      <td>0.000000</td>\n",
       "      <td>0.000000</td>\n",
       "      <td>D:/Sexual_Trafficking/TotalImages\\Image_1.jpg</td>\n",
       "      <td>everybody love filipina girl twenty-nine hi bo...</td>\n",
       "    </tr>\n",
       "    <tr>\n",
       "      <th>2</th>\n",
       "      <td>1</td>\n",
       "      <td>37</td>\n",
       "      <td>124</td>\n",
       "      <td>1</td>\n",
       "      <td>1</td>\n",
       "      <td>0.410655</td>\n",
       "      <td>0.286971</td>\n",
       "      <td>0.011099</td>\n",
       "      <td>0.002314</td>\n",
       "      <td>D:/Sexual_Trafficking/TotalImages\\Image_2.jpg</td>\n",
       "      <td>new sexy asian girl noentry ️ noentry ️ noentr...</td>\n",
       "    </tr>\n",
       "    <tr>\n",
       "      <th>3</th>\n",
       "      <td>0</td>\n",
       "      <td>18</td>\n",
       "      <td>63</td>\n",
       "      <td>0</td>\n",
       "      <td>0</td>\n",
       "      <td>0.299501</td>\n",
       "      <td>0.302739</td>\n",
       "      <td>0.000000</td>\n",
       "      <td>0.000000</td>\n",
       "      <td>D:/Sexual_Trafficking/TotalImages\\Image_3.jpg</td>\n",
       "      <td>freaky t eggplant peach top bottom nineinch fu...</td>\n",
       "    </tr>\n",
       "    <tr>\n",
       "      <th>4</th>\n",
       "      <td>0</td>\n",
       "      <td>21</td>\n",
       "      <td>116</td>\n",
       "      <td>0</td>\n",
       "      <td>0</td>\n",
       "      <td>0.233074</td>\n",
       "      <td>0.236686</td>\n",
       "      <td>0.000000</td>\n",
       "      <td>0.000000</td>\n",
       "      <td>D:/Sexual_Trafficking/TotalImages\\Image_4.jpg</td>\n",
       "      <td>redheart kinky kaylani crown rear access vip v...</td>\n",
       "    </tr>\n",
       "  </tbody>\n",
       "</table>\n",
       "</div>"
      ],
      "text/plain": [
       "   label  num_title_emojis  num_body_emojis  num_title_sex  num_body_sex  \\\n",
       "0      1                 4               64              0             1   \n",
       "1      0                 7               96              0             0   \n",
       "2      1                37              124              1             1   \n",
       "3      0                18               63              0             0   \n",
       "4      0                21              116              0             0   \n",
       "\n",
       "   prop_title_emojis  prop_body_emojis  prop_title_sex  prop_body_sex  \\\n",
       "0           0.264901          0.333160        0.000000       0.005206   \n",
       "1           0.193906          0.244836        0.000000       0.000000   \n",
       "2           0.410655          0.286971        0.011099       0.002314   \n",
       "3           0.299501          0.302739        0.000000       0.000000   \n",
       "4           0.233074          0.236686        0.000000       0.000000   \n",
       "\n",
       "                                     TotalImages  \\\n",
       "0  D:/Sexual_Trafficking/TotalImages\\Image_0.jpg   \n",
       "1  D:/Sexual_Trafficking/TotalImages\\Image_1.jpg   \n",
       "2  D:/Sexual_Trafficking/TotalImages\\Image_2.jpg   \n",
       "3  D:/Sexual_Trafficking/TotalImages\\Image_3.jpg   \n",
       "4  D:/Sexual_Trafficking/TotalImages\\Image_4.jpg   \n",
       "\n",
       "                                                text  \n",
       "0  ms chrissy twenty-two tall sexy slim one hundr...  \n",
       "1  everybody love filipina girl twenty-nine hi bo...  \n",
       "2  new sexy asian girl noentry ️ noentry ️ noentr...  \n",
       "3  freaky t eggplant peach top bottom nineinch fu...  \n",
       "4  redheart kinky kaylani crown rear access vip v...  "
      ]
     },
     "execution_count": 4,
     "metadata": {},
     "output_type": "execute_result"
    }
   ],
   "source": [
    "mydf=pd.read_csv('D:/Sexual_Trafficking/ht.csv') #cleaned and engineered data\n",
    "mydict={0:0, 1:0, 2:0, 3:0, 4:1, 5:1, 6:1} #dictionary mapping of values to binary\n",
    "mydf['label']=mydf['label'].replace(dict(mydict)) #replacing values\n",
    "#print(np.bincount(mydf['label'].values)) #count\n",
    "mydf['text']=mydf['title']+' '+mydf['body']\n",
    "mydf=mydf.drop(columns=['title','body'])\n",
    "mydf.head()"
   ]
  },
  {
   "cell_type": "markdown",
   "metadata": {},
   "source": [
    "# Train Test Split"
   ]
  },
  {
   "cell_type": "code",
   "execution_count": 5,
   "metadata": {},
   "outputs": [
    {
     "name": "stdout",
     "output_type": "stream",
     "text": [
      "[6638 3242]\n",
      "[1658  812]\n",
      "Index(['num_title_emojis', 'num_body_emojis', 'num_title_sex', 'num_body_sex',\n",
      "       'prop_title_emojis', 'prop_body_emojis', 'prop_title_sex',\n",
      "       'prop_body_sex', 'TotalImages', 'text'],\n",
      "      dtype='object')\n"
     ]
    }
   ],
   "source": [
    "x_train, x_test, y_train, y_test = tts(mydf.iloc[:,1:11], mydf['label'], test_size=0.2, random_state=42) #split\n",
    "print(np.bincount(y_train)) #print y train values\n",
    "print(np.bincount(y_test))  #print y test values\n",
    "print(x_train.columns)      #print x training columns"
   ]
  },
  {
   "cell_type": "markdown",
   "metadata": {},
   "source": [
    "# Make Data Sets"
   ]
  },
  {
   "cell_type": "code",
   "execution_count": 6,
   "metadata": {},
   "outputs": [
    {
     "data": {
      "text/html": [
       "<div>\n",
       "<style scoped>\n",
       "    .dataframe tbody tr th:only-of-type {\n",
       "        vertical-align: middle;\n",
       "    }\n",
       "\n",
       "    .dataframe tbody tr th {\n",
       "        vertical-align: top;\n",
       "    }\n",
       "\n",
       "    .dataframe thead th {\n",
       "        text-align: right;\n",
       "    }\n",
       "</style>\n",
       "<table border=\"1\" class=\"dataframe\">\n",
       "  <thead>\n",
       "    <tr style=\"text-align: right;\">\n",
       "      <th></th>\n",
       "      <th>num_title_emojis</th>\n",
       "      <th>num_body_emojis</th>\n",
       "      <th>num_title_sex</th>\n",
       "      <th>num_body_sex</th>\n",
       "      <th>prop_title_emojis</th>\n",
       "      <th>prop_body_emojis</th>\n",
       "      <th>prop_title_sex</th>\n",
       "      <th>prop_body_sex</th>\n",
       "    </tr>\n",
       "  </thead>\n",
       "  <tbody>\n",
       "    <tr>\n",
       "      <th>10132</th>\n",
       "      <td>63</td>\n",
       "      <td>87</td>\n",
       "      <td>1</td>\n",
       "      <td>2</td>\n",
       "      <td>0.623145</td>\n",
       "      <td>0.261969</td>\n",
       "      <td>0.009891</td>\n",
       "      <td>0.006022</td>\n",
       "    </tr>\n",
       "    <tr>\n",
       "      <th>4484</th>\n",
       "      <td>6</td>\n",
       "      <td>40</td>\n",
       "      <td>0</td>\n",
       "      <td>0</td>\n",
       "      <td>0.206186</td>\n",
       "      <td>0.228441</td>\n",
       "      <td>0.000000</td>\n",
       "      <td>0.000000</td>\n",
       "    </tr>\n",
       "    <tr>\n",
       "      <th>11620</th>\n",
       "      <td>14</td>\n",
       "      <td>79</td>\n",
       "      <td>0</td>\n",
       "      <td>1</td>\n",
       "      <td>0.273973</td>\n",
       "      <td>0.251512</td>\n",
       "      <td>0.000000</td>\n",
       "      <td>0.003184</td>\n",
       "    </tr>\n",
       "    <tr>\n",
       "      <th>3328</th>\n",
       "      <td>23</td>\n",
       "      <td>91</td>\n",
       "      <td>0</td>\n",
       "      <td>0</td>\n",
       "      <td>0.302234</td>\n",
       "      <td>0.256990</td>\n",
       "      <td>0.000000</td>\n",
       "      <td>0.000000</td>\n",
       "    </tr>\n",
       "    <tr>\n",
       "      <th>3115</th>\n",
       "      <td>28</td>\n",
       "      <td>378</td>\n",
       "      <td>1</td>\n",
       "      <td>1</td>\n",
       "      <td>0.271581</td>\n",
       "      <td>0.206321</td>\n",
       "      <td>0.009699</td>\n",
       "      <td>0.000546</td>\n",
       "    </tr>\n",
       "    <tr>\n",
       "      <th>...</th>\n",
       "      <td>...</td>\n",
       "      <td>...</td>\n",
       "      <td>...</td>\n",
       "      <td>...</td>\n",
       "      <td>...</td>\n",
       "      <td>...</td>\n",
       "      <td>...</td>\n",
       "      <td>...</td>\n",
       "    </tr>\n",
       "    <tr>\n",
       "      <th>11964</th>\n",
       "      <td>18</td>\n",
       "      <td>131</td>\n",
       "      <td>0</td>\n",
       "      <td>0</td>\n",
       "      <td>0.294599</td>\n",
       "      <td>0.301080</td>\n",
       "      <td>0.000000</td>\n",
       "      <td>0.000000</td>\n",
       "    </tr>\n",
       "    <tr>\n",
       "      <th>5191</th>\n",
       "      <td>7</td>\n",
       "      <td>118</td>\n",
       "      <td>0</td>\n",
       "      <td>0</td>\n",
       "      <td>0.082256</td>\n",
       "      <td>0.270580</td>\n",
       "      <td>0.000000</td>\n",
       "      <td>0.000000</td>\n",
       "    </tr>\n",
       "    <tr>\n",
       "      <th>5390</th>\n",
       "      <td>20</td>\n",
       "      <td>82</td>\n",
       "      <td>0</td>\n",
       "      <td>0</td>\n",
       "      <td>0.316957</td>\n",
       "      <td>0.288631</td>\n",
       "      <td>0.000000</td>\n",
       "      <td>0.000000</td>\n",
       "    </tr>\n",
       "    <tr>\n",
       "      <th>860</th>\n",
       "      <td>14</td>\n",
       "      <td>32</td>\n",
       "      <td>0</td>\n",
       "      <td>1</td>\n",
       "      <td>0.263653</td>\n",
       "      <td>0.257857</td>\n",
       "      <td>0.000000</td>\n",
       "      <td>0.008058</td>\n",
       "    </tr>\n",
       "    <tr>\n",
       "      <th>7270</th>\n",
       "      <td>24</td>\n",
       "      <td>134</td>\n",
       "      <td>0</td>\n",
       "      <td>0</td>\n",
       "      <td>0.247168</td>\n",
       "      <td>0.271200</td>\n",
       "      <td>0.000000</td>\n",
       "      <td>0.000000</td>\n",
       "    </tr>\n",
       "  </tbody>\n",
       "</table>\n",
       "<p>9880 rows × 8 columns</p>\n",
       "</div>"
      ],
      "text/plain": [
       "       num_title_emojis  num_body_emojis  num_title_sex  num_body_sex  \\\n",
       "10132                63               87              1             2   \n",
       "4484                  6               40              0             0   \n",
       "11620                14               79              0             1   \n",
       "3328                 23               91              0             0   \n",
       "3115                 28              378              1             1   \n",
       "...                 ...              ...            ...           ...   \n",
       "11964                18              131              0             0   \n",
       "5191                  7              118              0             0   \n",
       "5390                 20               82              0             0   \n",
       "860                  14               32              0             1   \n",
       "7270                 24              134              0             0   \n",
       "\n",
       "       prop_title_emojis  prop_body_emojis  prop_title_sex  prop_body_sex  \n",
       "10132           0.623145          0.261969        0.009891       0.006022  \n",
       "4484            0.206186          0.228441        0.000000       0.000000  \n",
       "11620           0.273973          0.251512        0.000000       0.003184  \n",
       "3328            0.302234          0.256990        0.000000       0.000000  \n",
       "3115            0.271581          0.206321        0.009699       0.000546  \n",
       "...                  ...               ...             ...            ...  \n",
       "11964           0.294599          0.301080        0.000000       0.000000  \n",
       "5191            0.082256          0.270580        0.000000       0.000000  \n",
       "5390            0.316957          0.288631        0.000000       0.000000  \n",
       "860             0.263653          0.257857        0.000000       0.008058  \n",
       "7270            0.247168          0.271200        0.000000       0.000000  \n",
       "\n",
       "[9880 rows x 8 columns]"
      ]
     },
     "execution_count": 6,
     "metadata": {},
     "output_type": "execute_result"
    }
   ],
   "source": [
    "x_train3=x_train.iloc[:,0:8]     #training for engineered features\n",
    "x_test3=x_test.iloc[:,0:8]       #test for engineered features\n",
    "x_train3"
   ]
  },
  {
   "cell_type": "markdown",
   "metadata": {},
   "source": [
    "# Min Max Scale for Continuous Variables"
   ]
  },
  {
   "cell_type": "code",
   "execution_count": 7,
   "metadata": {},
   "outputs": [],
   "source": [
    "transform=mms() #declare min max scaler\n",
    "x_train3=transform.fit_transform(x_train3)   #fit transform training data\n",
    "x_test3=transform.transform(x_test3)         #transform test data                                                 "
   ]
  },
  {
   "cell_type": "markdown",
   "metadata": {},
   "source": [
    "## Input Shapes"
   ]
  },
  {
   "cell_type": "code",
   "execution_count": 8,
   "metadata": {},
   "outputs": [],
   "source": [
    "input_3 = Input(shape=(8))"
   ]
  },
  {
   "cell_type": "markdown",
   "metadata": {},
   "source": [
    "## NN"
   ]
  },
  {
   "cell_type": "code",
   "execution_count": 9,
   "metadata": {},
   "outputs": [],
   "source": [
    "y=Dense(64)(input_3)\n",
    "y=Dropout(.5)(y)\n",
    "y=Dense(32)(y)\n",
    "y=Dropout(.2)(y)\n",
    "y=Dense(16, activation='relu')(y)\n",
    "y=Dropout(.1)(y)\n",
    "y=Dense(8, activation='relu')(y)\n",
    "y=Dense(1, activation='sigmoid')(y)\n",
    "model=Model(inputs=[input_3], outputs=y)\n"
   ]
  },
  {
   "cell_type": "markdown",
   "metadata": {},
   "source": [
    "# Compile"
   ]
  },
  {
   "cell_type": "code",
   "execution_count": 10,
   "metadata": {},
   "outputs": [
    {
     "name": "stdout",
     "output_type": "stream",
     "text": [
      "Model: \"functional_1\"\n",
      "_________________________________________________________________\n",
      "Layer (type)                 Output Shape              Param #   \n",
      "=================================================================\n",
      "input_1 (InputLayer)         [(None, 8)]               0         \n",
      "_________________________________________________________________\n",
      "dense (Dense)                (None, 64)                576       \n",
      "_________________________________________________________________\n",
      "dropout (Dropout)            (None, 64)                0         \n",
      "_________________________________________________________________\n",
      "dense_1 (Dense)              (None, 32)                2080      \n",
      "_________________________________________________________________\n",
      "dropout_1 (Dropout)          (None, 32)                0         \n",
      "_________________________________________________________________\n",
      "dense_2 (Dense)              (None, 16)                528       \n",
      "_________________________________________________________________\n",
      "dropout_2 (Dropout)          (None, 16)                0         \n",
      "_________________________________________________________________\n",
      "dense_3 (Dense)              (None, 8)                 136       \n",
      "_________________________________________________________________\n",
      "dense_4 (Dense)              (None, 1)                 9         \n",
      "=================================================================\n",
      "Total params: 3,329\n",
      "Trainable params: 3,329\n",
      "Non-trainable params: 0\n",
      "_________________________________________________________________\n"
     ]
    }
   ],
   "source": [
    "with tf.device('/GPU:0'):    \n",
    "    model = model\n",
    "    SGD= tensorflow.keras.optimizers.SGD(lr=0.0001, nesterov=True)\n",
    "    adam=tensorflow.keras.optimizers.Adam(lr=0.0001)\n",
    "    model.compile(loss=tensorflow.keras.losses.binary_crossentropy, \n",
    "              optimizer=adam, metrics=['binary_accuracy'])\n",
    "    model.summary()"
   ]
  },
  {
   "cell_type": "markdown",
   "metadata": {},
   "source": [
    "## Plot Model"
   ]
  },
  {
   "cell_type": "code",
   "execution_count": 11,
   "metadata": {},
   "outputs": [
    {
     "data": {
      "image/png": "[encoded data removed]",
      "text/plain": [
       "<IPython.core.display.Image object>"
      ]
     },
     "execution_count": 11,
     "metadata": {},
     "output_type": "execute_result"
    }
   ],
   "source": [
    "from tensorflow.keras.utils import plot_model\n",
    "plot_model(model, to_file='model_plot3.png', show_shapes=True, show_layer_names=True, expand_nested=False)"
   ]
  },
  {
   "cell_type": "markdown",
   "metadata": {},
   "source": [
    "# Prepare for Model Run"
   ]
  },
  {
   "cell_type": "code",
   "execution_count": 12,
   "metadata": {},
   "outputs": [],
   "source": [
    "tf.config.run_functions_eagerly(True)\n",
    "reset_keras()\n",
    "#x_train2=np.reshape(total_train,(len(y_train),mysize,mysize,3))\n",
    "#x_test2=np.reshape(total_test,(len(y_test),mysize,mysize,3))\n",
    "checkpoint = ModelCheckpoint(\"best_model.hdf5\", monitor='binary_accuracy', verbose=2,\n",
    "    save_best_only=True, mode='auto')"
   ]
  },
  {
   "cell_type": "markdown",
   "metadata": {},
   "source": [
    "# Model Run"
   ]
  },
  {
   "cell_type": "code",
   "execution_count": null,
   "metadata": {},
   "outputs": [
    {
     "name": "stderr",
     "output_type": "stream",
     "text": [
      "C:\\Users\\tf\\lib\\site-packages\\tensorflow\\python\\data\\ops\\dataset_ops.py:3350: UserWarning: Even though the tf.config.experimental_run_functions_eagerly option is set, this option does not apply to tf.data functions. tf.data functions are still traced and executed as graphs.\n",
      "  \"Even though the tf.config.experimental_run_functions_eagerly \"\n"
     ]
    },
    {
     "name": "stdout",
     "output_type": "stream",
     "text": [
      "Epoch 1/20\n",
      "304/309 [============================>.] - ETA: 0s - loss: 0.6693 - binary_accuracy: 0.6434\n",
      "Epoch 00001: binary_accuracy improved from -inf to 0.64372, saving model to best_model.hdf5\n",
      "309/309 [==============================] - 3s 11ms/step - loss: 0.6691 - binary_accuracy: 0.6437\n",
      "Epoch 2/20\n",
      "308/309 [============================>.] - ETA: 0s - loss: 0.6373 - binary_accuracy: 0.6730\n",
      "Epoch 00002: binary_accuracy improved from 0.64372 to 0.67318, saving model to best_model.hdf5\n",
      "309/309 [==============================] - 3s 11ms/step - loss: 0.6371 - binary_accuracy: 0.6732\n",
      "Epoch 3/20\n",
      "306/309 [============================>.] - ETA: 0s - loss: 0.6217 - binary_accuracy: 0.6798\n",
      "Epoch 00003: binary_accuracy improved from 0.67318 to 0.67925, saving model to best_model.hdf5\n",
      "309/309 [==============================] - 4s 12ms/step - loss: 0.6221 - binary_accuracy: 0.6793\n",
      "Epoch 4/20\n",
      "308/309 [============================>.] - ETA: 0s - loss: 0.6102 - binary_accuracy: 0.6890\n",
      "Epoch 00004: binary_accuracy improved from 0.67925 to 0.68877, saving model to best_model.hdf5\n",
      "309/309 [==============================] - 4s 12ms/step - loss: 0.6104 - binary_accuracy: 0.6888\n",
      "Epoch 5/20\n",
      "308/309 [============================>.] - ETA: 0s - loss: 0.6006 - binary_accuracy: 0.7014\n",
      "Epoch 00005: binary_accuracy improved from 0.68877 to 0.70152, saving model to best_model.hdf5\n",
      "309/309 [==============================] - 4s 11ms/step - loss: 0.6005 - binary_accuracy: 0.7015\n",
      "Epoch 6/20\n",
      "307/309 [============================>.] - ETA: 0s - loss: 0.5968 - binary_accuracy: 0.7079\n",
      "Epoch 00006: binary_accuracy improved from 0.70152 to 0.70769, saving model to best_model.hdf5\n",
      "309/309 [==============================] - 4s 12ms/step - loss: 0.5967 - binary_accuracy: 0.7077\n",
      "Epoch 7/20\n",
      "305/309 [============================>.] - ETA: 0s - loss: 0.5902 - binary_accuracy: 0.7081\n",
      "Epoch 00007: binary_accuracy improved from 0.70769 to 0.70830, saving model to best_model.hdf5\n",
      "309/309 [==============================] - 3s 11ms/step - loss: 0.5906 - binary_accuracy: 0.7083\n",
      "Epoch 8/20\n",
      "309/309 [==============================] - ETA: 0s - loss: 0.5889 - binary_accuracy: 0.7110\n",
      "Epoch 00008: binary_accuracy improved from 0.70830 to 0.71103, saving model to best_model.hdf5\n",
      "309/309 [==============================] - 4s 12ms/step - loss: 0.5889 - binary_accuracy: 0.7110\n",
      "Epoch 9/20\n",
      "307/309 [============================>.] - ETA: 0s - loss: 0.5850 - binary_accuracy: 0.7132\n",
      "Epoch 00009: binary_accuracy improved from 0.71103 to 0.71387, saving model to best_model.hdf5\n",
      "309/309 [==============================] - 4s 11ms/step - loss: 0.5842 - binary_accuracy: 0.7139\n",
      "Epoch 10/20\n",
      "306/309 [============================>.] - ETA: 0s - loss: 0.5830 - binary_accuracy: 0.7126\n",
      "Epoch 00010: binary_accuracy did not improve from 0.71387\n",
      "309/309 [==============================] - 3s 11ms/step - loss: 0.5827 - binary_accuracy: 0.7130\n",
      "Epoch 11/20\n",
      "309/309 [==============================] - ETA: 0s - loss: 0.5807 - binary_accuracy: 0.7144\n",
      "Epoch 00011: binary_accuracy improved from 0.71387 to 0.71437, saving model to best_model.hdf5\n",
      "309/309 [==============================] - 4s 12ms/step - loss: 0.5807 - binary_accuracy: 0.7144\n",
      "Epoch 12/20\n",
      "306/309 [============================>.] - ETA: 0s - loss: 0.5807 - binary_accuracy: 0.7162\n",
      "Epoch 00012: binary_accuracy improved from 0.71437 to 0.71680, saving model to best_model.hdf5\n",
      "309/309 [==============================] - 3s 11ms/step - loss: 0.5804 - binary_accuracy: 0.7168\n",
      "Epoch 13/20\n",
      "308/309 [============================>.] - ETA: 0s - loss: 0.5773 - binary_accuracy: 0.7153\n",
      "Epoch 00013: binary_accuracy did not improve from 0.71680\n",
      "309/309 [==============================] - 4s 11ms/step - loss: 0.5774 - binary_accuracy: 0.7151\n",
      "Epoch 14/20\n",
      "307/309 [============================>.] - ETA: 0s - loss: 0.5753 - binary_accuracy: 0.7192\n",
      "Epoch 00014: binary_accuracy improved from 0.71680 to 0.71893, saving model to best_model.hdf5\n",
      "309/309 [==============================] - 4s 12ms/step - loss: 0.5756 - binary_accuracy: 0.7189\n",
      "Epoch 15/20\n",
      "305/309 [============================>.] - ETA: 0s - loss: 0.5760 - binary_accuracy: 0.7209\n",
      "Epoch 00015: binary_accuracy improved from 0.71893 to 0.72105, saving model to best_model.hdf5\n",
      "309/309 [==============================] - 5s 16ms/step - loss: 0.5757 - binary_accuracy: 0.7211\n",
      "Epoch 16/20\n",
      "304/309 [============================>.] - ETA: 0s - loss: 0.5750 - binary_accuracy: 0.7194\n",
      "Epoch 00016: binary_accuracy did not improve from 0.72105\n",
      "309/309 [==============================] - 4s 12ms/step - loss: 0.5746 - binary_accuracy: 0.7198\n",
      "Epoch 17/20\n",
      "309/309 [==============================] - ETA: 0s - loss: 0.5728 - binary_accuracy: 0.7216\n",
      "Epoch 00017: binary_accuracy improved from 0.72105 to 0.72156, saving model to best_model.hdf5\n",
      "309/309 [==============================] - 4s 11ms/step - loss: 0.5728 - binary_accuracy: 0.7216\n",
      "Epoch 18/20\n",
      "306/309 [============================>.] - ETA: 0s - loss: 0.5715 - binary_accuracy: 0.7221\n",
      "Epoch 00018: binary_accuracy improved from 0.72156 to 0.72176, saving model to best_model.hdf5\n",
      "309/309 [==============================] - 3s 11ms/step - loss: 0.5715 - binary_accuracy: 0.7218\n",
      "Epoch 19/20\n",
      "309/309 [==============================] - ETA: 0s - loss: 0.5705 - binary_accuracy: 0.7220\n",
      "Epoch 00019: binary_accuracy improved from 0.72176 to 0.72196, saving model to best_model.hdf5\n",
      "309/309 [==============================] - 4s 12ms/step - loss: 0.5705 - binary_accuracy: 0.7220\n",
      "Epoch 20/20\n",
      "264/309 [========================>.....] - ETA: 0s - loss: 0.5696 - binary_accuracy: 0.7234"
     ]
    }
   ],
   "source": [
    "#model.load_weights('best_model.hdf5')\n",
    "reset_keras()\n",
    "\n",
    "with tf.device('/GPU:0'):    \n",
    "    history=model.fit(\n",
    "                  x=[x_train3],y=y_train,\n",
    "                  batch_size=mybatch,verbose=1,epochs=num_epochs, callbacks=[checkpoint]) \n",
    "    \n",
    "#validation_split=.1 removed after tuning models\n",
    "#2 epochs works well (hyperparameter tuning)"
   ]
  },
  {
   "cell_type": "markdown",
   "metadata": {},
   "source": [
    "# Evaluate on Test Set"
   ]
  },
  {
   "cell_type": "code",
   "execution_count": 16,
   "metadata": {},
   "outputs": [
    {
     "name": "stdout",
     "output_type": "stream",
     "text": [
      "78/78 [==============================] - 1s 7ms/step - loss: 0.5493 - binary_accuracy: 0.7308\n"
     ]
    }
   ],
   "source": [
    "score=model.evaluate([x_test3], y=y_test)"
   ]
  },
  {
   "cell_type": "markdown",
   "metadata": {},
   "source": [
    "# Predict on Test Set"
   ]
  },
  {
   "cell_type": "code",
   "execution_count": 17,
   "metadata": {},
   "outputs": [],
   "source": [
    "predict=model.predict([x_test3])\n",
    "predict1=np.squeeze(predict)\n",
    "predict1=np.round(predict,0)"
   ]
  },
  {
   "cell_type": "markdown",
   "metadata": {},
   "source": [
    "# Generate Metrics"
   ]
  },
  {
   "cell_type": "code",
   "execution_count": 18,
   "metadata": {},
   "outputs": [
    {
     "name": "stdout",
     "output_type": "stream",
     "text": [
      "              precision    recall  f1-score   support\n",
      "\n",
      "           0       0.75      0.91      0.82      1658\n",
      "           1       0.66      0.37      0.48       812\n",
      "\n",
      "    accuracy                           0.73      2470\n",
      "   macro avg       0.70      0.64      0.65      2470\n",
      "weighted avg       0.72      0.73      0.71      2470\n",
      "\n"
     ]
    }
   ],
   "source": [
    "print(cr(y_test, predict1))"
   ]
  },
  {
   "cell_type": "code",
   "execution_count": 45,
   "metadata": {},
   "outputs": [
    {
     "data": {
      "text/plain": [
       "True         0.653928\n",
       "Predicted    1.000000\n",
       "dtype: float64"
      ]
     },
     "execution_count": 45,
     "metadata": {},
     "output_type": "execute_result"
    }
   ],
   "source": [
    "a=np.array([y_test,np.squeeze(predict1)]).T\n",
    "a=pd.DataFrame(a, columns=['True','Predicted'])\n",
    "means =a.groupby('True').mean()\n",
    "sub=a[a['Predicted']>.99]\n",
    "sub.mean()"
   ]
  },
  {
   "cell_type": "markdown",
   "metadata": {},
   "source": [
    "# Plot Accuracy"
   ]
  },
  {
   "cell_type": "markdown",
   "metadata": {},
   "source": [
    "plt.plot(history.history['binary_accuracy'])\n",
    "plt.plot(history.history['val_binary_accuracy'])\n",
    "\n",
    "plt.title('model accuracy')\n",
    "plt.ylabel('accuracy')\n",
    "plt.xlabel('epoch')\n",
    "plt.legend(['train','test'], loc='upper left')\n",
    "plt.show()\n",
    "\n",
    "plt.plot(history.history['loss'])\n",
    "plt.plot(history.history['val_loss'])\n",
    "\n",
    "plt.title('model loss')\n",
    "plt.ylabel('loss')\n",
    "plt.xlabel('epoch')\n",
    "plt.legend(['train','test'], loc='upper left')\n",
    "plt.show()"
   ]
  },
  {
   "cell_type": "code",
   "execution_count": null,
   "metadata": {},
   "outputs": [],
   "source": []
  }
 ],
 "metadata": {
  "kernelspec": {
   "display_name": "Python 3",
   "language": "python",
   "name": "python3"
  },
  "language_info": {
   "codemirror_mode": {
    "name": "ipython",
    "version": 3
   },
   "file_extension": ".py",
   "mimetype": "text/x-python",
   "name": "python",
   "nbconvert_exporter": "python",
   "pygments_lexer": "ipython3",
   "version": "3.7.10"
  }
 },
 "nbformat": 4,
 "nbformat_minor": 2
}
